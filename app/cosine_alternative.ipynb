{
 "cells": [
  {
   "cell_type": "code",
   "execution_count": 35,
   "metadata": {},
   "outputs": [],
   "source": [
    "import re\n",
    "import csv\n",
    "import math\n",
    "import json\n",
    "import numpy as np\n",
    "import pandas as pd\n",
    "import pickle\n",
    "import requests\n",
    "from sklearn.feature_extraction.text import TfidfVectorizer\n",
    "from sklearn.metrics.pairwise import cosine_similarity"
   ]
  },
  {
   "cell_type": "code",
   "execution_count": 36,
   "metadata": {},
   "outputs": [],
   "source": [
    "import lyricsgenius\n",
    "genius_TOKEN = 'sD0C3epnJdfOQQK4eIC45dHl-Qv7DipToGpuj1n4WeuG5_LDP1HKn31w5Cn1lOux'\n",
    "genius = lyricsgenius.Genius(genius_TOKEN)\n",
    "genius.verbose = False\n",
    "genius.remove_section_headers = True"
   ]
  },
  {
   "cell_type": "code",
   "execution_count": 37,
   "metadata": {},
   "outputs": [],
   "source": [
    "movies = pd.read_csv('merged_data.csv')"
   ]
  },
  {
   "cell_type": "code",
   "execution_count": 38,
   "metadata": {},
   "outputs": [],
   "source": [
    "def listify(df):\n",
    "    genres = []\n",
    "    languages = []\n",
    "    countries = []\n",
    "    for x,y,z in zip(df['Genres'],df['Languages'],df['Countries']):\n",
    "        g = re.findall(': \\\"(.*?)\\\"', x)\n",
    "        l = re.findall(': \\\"(.*?)\\\"', y)\n",
    "        c = re.findall(': \\\"(.*?)\\\"', z)\n",
    "        genres.append(g)\n",
    "        languages.append(l)\n",
    "        countries.append(c)\n",
    "    df['Genres'] = genres\n",
    "    df['Languages'] = languages\n",
    "    df['Countries'] = countries\n",
    "    return df"
   ]
  },
  {
   "cell_type": "code",
   "execution_count": 39,
   "metadata": {},
   "outputs": [],
   "source": [
    "#movies = listify(movies)"
   ]
  },
  {
   "cell_type": "code",
   "execution_count": 55,
   "metadata": {},
   "outputs": [],
   "source": [
    "'''years = []\n",
    "for x in movies['ReleaseDate']:\n",
    "    x = str(x)[:4]\n",
    "    if x != 'nan':\n",
    "        years.append(int(x))\n",
    "    else:\n",
    "        years.append(3000)\n",
    "movies['ReleaseDate'] = years'''"
   ]
  },
  {
   "cell_type": "code",
   "execution_count": 44,
   "metadata": {},
   "outputs": [],
   "source": [
    "#movies = movies[movies['ReleaseDate']>=1960]  "
   ]
  },
  {
   "cell_type": "code",
   "execution_count": 40,
   "metadata": {},
   "outputs": [],
   "source": [
    "vectorizer = TfidfVectorizer(max_features=50000, max_df=0.8, min_df=20, norm='l2')\n",
    "tokenizer = vectorizer.build_tokenizer()"
   ]
  },
  {
   "cell_type": "code",
   "execution_count": 41,
   "metadata": {},
   "outputs": [],
   "source": [
    "movies['toks'] = [tokenizer(summary) for summary in movies['Summary']]"
   ]
  },
  {
   "cell_type": "code",
   "execution_count": 56,
   "metadata": {},
   "outputs": [],
   "source": [
    "is_english = ['English Language' in m for m in movies['Languages']]\n",
    "movies = movies[is_english]"
   ]
  },
  {
   "cell_type": "code",
   "execution_count": 58,
   "metadata": {},
   "outputs": [],
   "source": [
    "movies = movies.reset_index()\n",
    "movies = movies.drop(['index'], axis=1)"
   ]
  },
  {
   "cell_type": "code",
   "execution_count": 59,
   "metadata": {},
   "outputs": [
    {
     "data": {
      "text/html": [
       "<div>\n",
       "<style scoped>\n",
       "    .dataframe tbody tr th:only-of-type {\n",
       "        vertical-align: middle;\n",
       "    }\n",
       "\n",
       "    .dataframe tbody tr th {\n",
       "        vertical-align: top;\n",
       "    }\n",
       "\n",
       "    .dataframe thead th {\n",
       "        text-align: right;\n",
       "    }\n",
       "</style>\n",
       "<table border=\"1\" class=\"dataframe\">\n",
       "  <thead>\n",
       "    <tr style=\"text-align: right;\">\n",
       "      <th></th>\n",
       "      <th>WikiID</th>\n",
       "      <th>Title</th>\n",
       "      <th>ReleaseDate</th>\n",
       "      <th>Runtime</th>\n",
       "      <th>Languages</th>\n",
       "      <th>Countries</th>\n",
       "      <th>Genres</th>\n",
       "      <th>Summary</th>\n",
       "      <th>compound</th>\n",
       "      <th>pos</th>\n",
       "      <th>neg</th>\n",
       "      <th>neu</th>\n",
       "      <th>toks</th>\n",
       "    </tr>\n",
       "  </thead>\n",
       "  <tbody>\n",
       "    <tr>\n",
       "      <th>0</th>\n",
       "      <td>975900</td>\n",
       "      <td>Ghosts of Mars</td>\n",
       "      <td>2001</td>\n",
       "      <td>98.0</td>\n",
       "      <td>[English Language]</td>\n",
       "      <td>[United States of America]</td>\n",
       "      <td>[Thriller, Science Fiction, Horror, Adventure,...</td>\n",
       "      <td>Set in the second half of the 22nd century, th...</td>\n",
       "      <td>-0.9913</td>\n",
       "      <td>0.065</td>\n",
       "      <td>0.150</td>\n",
       "      <td>0.786</td>\n",
       "      <td>[Set, in, the, second, half, of, the, 22nd, ce...</td>\n",
       "    </tr>\n",
       "    <tr>\n",
       "      <th>1</th>\n",
       "      <td>9363483</td>\n",
       "      <td>White Of The Eye</td>\n",
       "      <td>1987</td>\n",
       "      <td>110.0</td>\n",
       "      <td>[English Language]</td>\n",
       "      <td>[United Kingdom]</td>\n",
       "      <td>[Thriller, Erotic thriller, Psychological thri...</td>\n",
       "      <td>A series of murders of rich young women throug...</td>\n",
       "      <td>-0.9985</td>\n",
       "      <td>0.078</td>\n",
       "      <td>0.198</td>\n",
       "      <td>0.724</td>\n",
       "      <td>[series, of, murders, of, rich, young, women, ...</td>\n",
       "    </tr>\n",
       "    <tr>\n",
       "      <th>2</th>\n",
       "      <td>18998739</td>\n",
       "      <td>The Sorcerer's Apprentice</td>\n",
       "      <td>2002</td>\n",
       "      <td>86.0</td>\n",
       "      <td>[English Language]</td>\n",
       "      <td>[South Africa]</td>\n",
       "      <td>[Family Film, Fantasy, Adventure, World cinema]</td>\n",
       "      <td>Every hundred years, the evil Morgana  returns...</td>\n",
       "      <td>-0.8885</td>\n",
       "      <td>0.092</td>\n",
       "      <td>0.131</td>\n",
       "      <td>0.776</td>\n",
       "      <td>[Every, hundred, years, the, evil, Morgana, re...</td>\n",
       "    </tr>\n",
       "    <tr>\n",
       "      <th>3</th>\n",
       "      <td>6631279</td>\n",
       "      <td>Little city</td>\n",
       "      <td>1997</td>\n",
       "      <td>93.0</td>\n",
       "      <td>[English Language]</td>\n",
       "      <td>[United States of America]</td>\n",
       "      <td>[Romantic comedy, Ensemble Film, Comedy-drama,...</td>\n",
       "      <td>Adam, a San Francisco-based artist who works a...</td>\n",
       "      <td>-0.7097</td>\n",
       "      <td>0.089</td>\n",
       "      <td>0.108</td>\n",
       "      <td>0.804</td>\n",
       "      <td>[Adam, San, Francisco, based, artist, who, wor...</td>\n",
       "    </tr>\n",
       "    <tr>\n",
       "      <th>4</th>\n",
       "      <td>171005</td>\n",
       "      <td>Henry V</td>\n",
       "      <td>1989</td>\n",
       "      <td>137.0</td>\n",
       "      <td>[English Language]</td>\n",
       "      <td>[United Kingdom]</td>\n",
       "      <td>[Costume drama, War film, Epic, Period piece, ...</td>\n",
       "      <td>{{Plot|dateAct 1Act 2Act 3Act 4Act 5 Finally n...</td>\n",
       "      <td>0.3182</td>\n",
       "      <td>0.065</td>\n",
       "      <td>0.032</td>\n",
       "      <td>0.903</td>\n",
       "      <td>[Plot, dateAct, 1Act, 2Act, 3Act, 4Act, Finall...</td>\n",
       "    </tr>\n",
       "  </tbody>\n",
       "</table>\n",
       "</div>"
      ],
      "text/plain": [
       "     WikiID                      Title  ReleaseDate  Runtime  \\\n",
       "0    975900             Ghosts of Mars         2001     98.0   \n",
       "1   9363483           White Of The Eye         1987    110.0   \n",
       "2  18998739  The Sorcerer's Apprentice         2002     86.0   \n",
       "3   6631279                Little city         1997     93.0   \n",
       "4    171005                    Henry V         1989    137.0   \n",
       "\n",
       "            Languages                   Countries  \\\n",
       "0  [English Language]  [United States of America]   \n",
       "1  [English Language]            [United Kingdom]   \n",
       "2  [English Language]              [South Africa]   \n",
       "3  [English Language]  [United States of America]   \n",
       "4  [English Language]            [United Kingdom]   \n",
       "\n",
       "                                              Genres  \\\n",
       "0  [Thriller, Science Fiction, Horror, Adventure,...   \n",
       "1  [Thriller, Erotic thriller, Psychological thri...   \n",
       "2    [Family Film, Fantasy, Adventure, World cinema]   \n",
       "3  [Romantic comedy, Ensemble Film, Comedy-drama,...   \n",
       "4  [Costume drama, War film, Epic, Period piece, ...   \n",
       "\n",
       "                                             Summary  compound    pos    neg  \\\n",
       "0  Set in the second half of the 22nd century, th...   -0.9913  0.065  0.150   \n",
       "1  A series of murders of rich young women throug...   -0.9985  0.078  0.198   \n",
       "2  Every hundred years, the evil Morgana  returns...   -0.8885  0.092  0.131   \n",
       "3  Adam, a San Francisco-based artist who works a...   -0.7097  0.089  0.108   \n",
       "4  {{Plot|dateAct 1Act 2Act 3Act 4Act 5 Finally n...    0.3182  0.065  0.032   \n",
       "\n",
       "     neu                                               toks  \n",
       "0  0.786  [Set, in, the, second, half, of, the, 22nd, ce...  \n",
       "1  0.724  [series, of, murders, of, rich, young, women, ...  \n",
       "2  0.776  [Every, hundred, years, the, evil, Morgana, re...  \n",
       "3  0.804  [Adam, San, Francisco, based, artist, who, wor...  \n",
       "4  0.903  [Plot, dateAct, 1Act, 2Act, 3Act, 4Act, Finall...  "
      ]
     },
     "execution_count": 59,
     "metadata": {},
     "output_type": "execute_result"
    }
   ],
   "source": [
    "movies.head()"
   ]
  },
  {
   "cell_type": "code",
   "execution_count": 60,
   "metadata": {},
   "outputs": [],
   "source": [
    "from vaderSentiment.vaderSentiment import SentimentIntensityAnalyzer\n",
    "analyzer = SentimentIntensityAnalyzer()"
   ]
  },
  {
   "cell_type": "code",
   "execution_count": 61,
   "metadata": {},
   "outputs": [],
   "source": [
    "s = genius.search_song('XO','eden')\n",
    "x = analyzer.polarity_scores(s.lyrics)\n",
    "x1 = x['pos']\n",
    "y1 = x['neg']"
   ]
  },
  {
   "cell_type": "code",
   "execution_count": 62,
   "metadata": {},
   "outputs": [],
   "source": [
    "dist = []\n",
    "for x2,y2 in tuple(zip(movies['pos'], movies['neg'])):\n",
    "    dist.append(math.sqrt((x1 - x2)**2 + (y1 - y2)**2))"
   ]
  },
  {
   "cell_type": "code",
   "execution_count": 63,
   "metadata": {},
   "outputs": [
    {
     "data": {
      "text/plain": [
       "24775"
      ]
     },
     "execution_count": 63,
     "metadata": {},
     "output_type": "execute_result"
    }
   ],
   "source": [
    "num_movies = len(movies)\n",
    "num_movies"
   ]
  },
  {
   "cell_type": "code",
   "execution_count": 65,
   "metadata": {},
   "outputs": [],
   "source": [
    "def build_inverted_index(movies):\n",
    "    word_set = []\n",
    "    for t in movies['toks']:\n",
    "        word_set+=t\n",
    "    word_set = set(word_set)\n",
    "    word_dict = {w: [] for w in word_set}\n",
    "    for i in range(len(movies)):\n",
    "        for w in set(movies['toks'][i]):\n",
    "            if w in movies['toks'][i]:\n",
    "                word_dict[w].append((i,movies['toks'][i].count(w)))\n",
    "    return word_dict"
   ]
  },
  {
   "cell_type": "code",
   "execution_count": 66,
   "metadata": {},
   "outputs": [],
   "source": [
    "#took long time to run, only needs to be done once\n",
    "#idx = build_inverted_index(movies)"
   ]
  },
  {
   "cell_type": "code",
   "execution_count": 99,
   "metadata": {},
   "outputs": [],
   "source": [
    "norms = np.loadtxt('norms.csv', delimiter=',')"
   ]
  },
  {
   "cell_type": "code",
   "execution_count": 114,
   "metadata": {},
   "outputs": [],
   "source": [
    "inv_idx = pd.read_csv('inv_idx.csv')"
   ]
  },
  {
   "cell_type": "code",
   "execution_count": 115,
   "metadata": {},
   "outputs": [
    {
     "data": {
      "text/html": [
       "<div>\n",
       "<style scoped>\n",
       "    .dataframe tbody tr th:only-of-type {\n",
       "        vertical-align: middle;\n",
       "    }\n",
       "\n",
       "    .dataframe tbody tr th {\n",
       "        vertical-align: top;\n",
       "    }\n",
       "\n",
       "    .dataframe thead th {\n",
       "        text-align: right;\n",
       "    }\n",
       "</style>\n",
       "<table border=\"1\" class=\"dataframe\">\n",
       "  <thead>\n",
       "    <tr style=\"text-align: right;\">\n",
       "      <th></th>\n",
       "      <th>word</th>\n",
       "      <th>docs</th>\n",
       "      <th>counts</th>\n",
       "    </tr>\n",
       "  </thead>\n",
       "  <tbody>\n",
       "    <tr>\n",
       "      <th>0</th>\n",
       "      <td>Bacolod</td>\n",
       "      <td>[22137]</td>\n",
       "      <td>[1]</td>\n",
       "    </tr>\n",
       "    <tr>\n",
       "      <th>1</th>\n",
       "      <td>cities</td>\n",
       "      <td>[363, 711, 843, 1029, 1037, 1348, 1532, 1765, ...</td>\n",
       "      <td>[2, 1, 1, 1, 1, 1, 1, 1, 1, 1, 1, 1, 1, 1, 1, ...</td>\n",
       "    </tr>\n",
       "    <tr>\n",
       "      <th>2</th>\n",
       "      <td>sympathising</td>\n",
       "      <td>[11878]</td>\n",
       "      <td>[1]</td>\n",
       "    </tr>\n",
       "    <tr>\n",
       "      <th>3</th>\n",
       "      <td>Obliged</td>\n",
       "      <td>[4784, 12949, 13936, 15556]</td>\n",
       "      <td>[1, 1, 1, 1]</td>\n",
       "    </tr>\n",
       "    <tr>\n",
       "      <th>4</th>\n",
       "      <td>Nyla</td>\n",
       "      <td>[4234, 15129, 25097, 39512]</td>\n",
       "      <td>[28, 1, 2, 2]</td>\n",
       "    </tr>\n",
       "  </tbody>\n",
       "</table>\n",
       "</div>"
      ],
      "text/plain": [
       "           word                                               docs  \\\n",
       "0       Bacolod                                            [22137]   \n",
       "1        cities  [363, 711, 843, 1029, 1037, 1348, 1532, 1765, ...   \n",
       "2  sympathising                                            [11878]   \n",
       "3       Obliged                        [4784, 12949, 13936, 15556]   \n",
       "4          Nyla                        [4234, 15129, 25097, 39512]   \n",
       "\n",
       "                                              counts  \n",
       "0                                                [1]  \n",
       "1  [2, 1, 1, 1, 1, 1, 1, 1, 1, 1, 1, 1, 1, 1, 1, ...  \n",
       "2                                                [1]  \n",
       "3                                       [1, 1, 1, 1]  \n",
       "4                                      [28, 1, 2, 2]  "
      ]
     },
     "execution_count": 115,
     "metadata": {},
     "output_type": "execute_result"
    }
   ],
   "source": [
    "inv_idx.columns = ['word','docs','counts']\n",
    "inv_idx.head()"
   ]
  },
  {
   "cell_type": "code",
   "execution_count": 116,
   "metadata": {},
   "outputs": [],
   "source": [
    "docs = [d.strip('[]').split(', ') for d in inv_idx['docs']]\n",
    "inv_idx['docs'] = docs"
   ]
  },
  {
   "cell_type": "code",
   "execution_count": 117,
   "metadata": {},
   "outputs": [],
   "source": [
    "counts = [c.strip('[]').split(', ') for c in inv_idx['counts']]\n",
    "inv_idx['counts'] = counts"
   ]
  },
  {
   "cell_type": "code",
   "execution_count": 119,
   "metadata": {},
   "outputs": [
    {
     "data": {
      "text/plain": [
       "str"
      ]
     },
     "execution_count": 119,
     "metadata": {},
     "output_type": "execute_result"
    }
   ],
   "source": [
    "type(inv_idx['docs'][72726])"
   ]
  },
  {
   "cell_type": "code",
   "execution_count": 96,
   "metadata": {},
   "outputs": [],
   "source": [
    "word_to_index = {word:i for i, word in enumerate(inv_idx['word'])}"
   ]
  },
  {
   "cell_type": "code",
   "execution_count": 94,
   "metadata": {},
   "outputs": [],
   "source": [
    "z = tuple(zip(inv_idx['word'],inv_idx['docs']))\n",
    "idf = {a: math.log2(num_movies/(1+len(b))) for (a,b) in z if len(b)>=20 and len(b)/num_movies<=0.8}"
   ]
  },
  {
   "cell_type": "code",
   "execution_count": 25,
   "metadata": {},
   "outputs": [],
   "source": [
    "def compute_doc_norms(index, idf, n_docs):\n",
    "    norms_sq = np.zeros(n_docs)\n",
    "    for t in idf:\n",
    "        for (doc,cnt) in index[t]:\n",
    "            norms_sq[doc] += (cnt*idf[t])**2\n",
    "    return np.sqrt(norms_sq)"
   ]
  },
  {
   "cell_type": "code",
   "execution_count": 26,
   "metadata": {},
   "outputs": [],
   "source": [
    "#norms = compute_doc_norms(inv_idx, idf, num_movies)\n",
    "#np.savetxt('norms.csv', norms, delimiter=',')"
   ]
  },
  {
   "cell_type": "code",
   "execution_count": 100,
   "metadata": {},
   "outputs": [],
   "source": [
    "def cleanjson(result):\n",
    "    title = result[result.find(\"Title\")+8:result.find(\"Year\")-3]\n",
    "    plot = result[result.find(\"Plot\")+7:result.find(\"Language\")-3]\n",
    "    try:\n",
    "        review_imdb = float(result[result.find(\n",
    "        '\"Internet Movie Database\",\"Value\":\"')+35:result.find('Source\":\"Rotten Tomatoes\"')-8])\n",
    "    except:\n",
    "        review_imdb = -1\n",
    "    try:\n",
    "        review_rotten = float(result[result.find(\n",
    "        'Source\":\"Rotten Tomatoes\",\"Value\":')+35: result.find('},{\"Source\":\"Metacritic\"')-2])\n",
    "    except:\n",
    "        review_rotten = -1\n",
    "    return [title, plot, review_imdb, review_rotten]\n",
    "\n",
    "def response(result):\n",
    "    text = result[result.find('\"Response\":' )+12:]\n",
    "    return text.find('True') >-1"
   ]
  },
  {
   "cell_type": "code",
   "execution_count": 101,
   "metadata": {},
   "outputs": [],
   "source": [
    "omdb_TOKEN = 'ce887dbd'\n",
    "def find_movie(movie):\n",
    "    title = \"\"\n",
    "    plot = \"\"\n",
    "    query = \"http://www.omdbapi.com/?apikey=\" + omdb_TOKEN + \"&t=\" + movie\n",
    "    params = {\"r\": \"json\", \"plot\": \"full\"}\n",
    "    result = requests.get(query, params)\n",
    "    if response(result.text):\n",
    "        json = cleanjson(result.text)\n",
    "        plot = json[1]\n",
    "        title = json[0]\n",
    "        review_imdb = json[2]\n",
    "        review_rotten = json[3]\n",
    "    else:\n",
    "        return \"ERROR\"\n",
    "    return (title, plot, review_imdb, review_rotten)"
   ]
  },
  {
   "cell_type": "code",
   "execution_count": 104,
   "metadata": {},
   "outputs": [],
   "source": [
    "def index_search(user_mov):\n",
    "    movie = find_movie(user_mov)\n",
    "    query = movie[1]\n",
    "    #query = ''\n",
    "    #if movie[0] in movie_titles:\n",
    "    #    query = movies['Summary'][title_to_index[movie[0]]]\n",
    "    #else:\n",
    "    #    query = movie[1]\n",
    "    scores = np.zeros(len(norms))\n",
    "    docs = [i for i in range(len(norms))]\n",
    "    q = query.lower()\n",
    "    q_tokens = tokenizer(q)\n",
    "    q_norm_sq = 0\n",
    "    for t in set(q_tokens):\n",
    "        if t in idf:\n",
    "            print(t)\n",
    "            ind = word_to_index[t]\n",
    "            print(ind)\n",
    "            q_norm_sq += (q_tokens.count(t)*idf[t])**2\n",
    "            for (doc,cnt) in tuple(zip(inv_idx['docs'][ind],inv_idx['counts'][ind])):\n",
    "                print(doc,cnt)\n",
    "                scores[doc] += (q_tokens.count(t)*cnt*idf[t]**2)/norms[doc]\n",
    "    q_norm = math.sqrt(q_norm_sq)\n",
    "    new_scores = [score/q_norm for score in scores]\n",
    "    result = sorted(tuple(zip(new_scores, docs)),reverse=True)\n",
    "    return result[:10]"
   ]
  },
  {
   "cell_type": "code",
   "execution_count": 105,
   "metadata": {},
   "outputs": [
    {
     "name": "stdout",
     "output_type": "stream",
     "text": [
      "longer\n",
      "72726\n",
      "[ [\n"
     ]
    },
    {
     "ename": "IndexError",
     "evalue": "only integers, slices (`:`), ellipsis (`...`), numpy.newaxis (`None`) and integer or boolean arrays are valid indices",
     "output_type": "error",
     "traceback": [
      "\u001b[1;31m---------------------------------------------------------------------------\u001b[0m",
      "\u001b[1;31mIndexError\u001b[0m                                Traceback (most recent call last)",
      "\u001b[1;32m<ipython-input-105-e9d5657819f3>\u001b[0m in \u001b[0;36m<module>\u001b[1;34m()\u001b[0m\n\u001b[1;32m----> 1\u001b[1;33m \u001b[0mresults\u001b[0m \u001b[1;33m=\u001b[0m \u001b[0mindex_search\u001b[0m\u001b[1;33m(\u001b[0m\u001b[1;34m'Memento'\u001b[0m\u001b[1;33m)\u001b[0m\u001b[1;33m\u001b[0m\u001b[1;33m\u001b[0m\u001b[0m\n\u001b[0m",
      "\u001b[1;32m<ipython-input-104-1ca14bd0691d>\u001b[0m in \u001b[0;36mindex_search\u001b[1;34m(user_mov)\u001b[0m\n\u001b[0;32m     20\u001b[0m             \u001b[1;32mfor\u001b[0m \u001b[1;33m(\u001b[0m\u001b[0mdoc\u001b[0m\u001b[1;33m,\u001b[0m\u001b[0mcnt\u001b[0m\u001b[1;33m)\u001b[0m \u001b[1;32min\u001b[0m \u001b[0mtuple\u001b[0m\u001b[1;33m(\u001b[0m\u001b[0mzip\u001b[0m\u001b[1;33m(\u001b[0m\u001b[0minv_idx\u001b[0m\u001b[1;33m[\u001b[0m\u001b[1;34m'docs'\u001b[0m\u001b[1;33m]\u001b[0m\u001b[1;33m[\u001b[0m\u001b[0mind\u001b[0m\u001b[1;33m]\u001b[0m\u001b[1;33m,\u001b[0m\u001b[0minv_idx\u001b[0m\u001b[1;33m[\u001b[0m\u001b[1;34m'counts'\u001b[0m\u001b[1;33m]\u001b[0m\u001b[1;33m[\u001b[0m\u001b[0mind\u001b[0m\u001b[1;33m]\u001b[0m\u001b[1;33m)\u001b[0m\u001b[1;33m)\u001b[0m\u001b[1;33m:\u001b[0m\u001b[1;33m\u001b[0m\u001b[1;33m\u001b[0m\u001b[0m\n\u001b[0;32m     21\u001b[0m                 \u001b[0mprint\u001b[0m\u001b[1;33m(\u001b[0m\u001b[0mdoc\u001b[0m\u001b[1;33m,\u001b[0m\u001b[0mcnt\u001b[0m\u001b[1;33m)\u001b[0m\u001b[1;33m\u001b[0m\u001b[1;33m\u001b[0m\u001b[0m\n\u001b[1;32m---> 22\u001b[1;33m                 \u001b[0mscores\u001b[0m\u001b[1;33m[\u001b[0m\u001b[0mdoc\u001b[0m\u001b[1;33m]\u001b[0m \u001b[1;33m+=\u001b[0m \u001b[1;33m(\u001b[0m\u001b[0mq_tokens\u001b[0m\u001b[1;33m.\u001b[0m\u001b[0mcount\u001b[0m\u001b[1;33m(\u001b[0m\u001b[0mt\u001b[0m\u001b[1;33m)\u001b[0m\u001b[1;33m*\u001b[0m\u001b[0mcnt\u001b[0m\u001b[1;33m*\u001b[0m\u001b[0midf\u001b[0m\u001b[1;33m[\u001b[0m\u001b[0mt\u001b[0m\u001b[1;33m]\u001b[0m\u001b[1;33m**\u001b[0m\u001b[1;36m2\u001b[0m\u001b[1;33m)\u001b[0m\u001b[1;33m/\u001b[0m\u001b[0mnorms\u001b[0m\u001b[1;33m[\u001b[0m\u001b[0mdoc\u001b[0m\u001b[1;33m]\u001b[0m\u001b[1;33m\u001b[0m\u001b[1;33m\u001b[0m\u001b[0m\n\u001b[0m\u001b[0;32m     23\u001b[0m     \u001b[0mq_norm\u001b[0m \u001b[1;33m=\u001b[0m \u001b[0mmath\u001b[0m\u001b[1;33m.\u001b[0m\u001b[0msqrt\u001b[0m\u001b[1;33m(\u001b[0m\u001b[0mq_norm_sq\u001b[0m\u001b[1;33m)\u001b[0m\u001b[1;33m\u001b[0m\u001b[1;33m\u001b[0m\u001b[0m\n\u001b[0;32m     24\u001b[0m     \u001b[0mnew_scores\u001b[0m \u001b[1;33m=\u001b[0m \u001b[1;33m[\u001b[0m\u001b[0mscore\u001b[0m\u001b[1;33m/\u001b[0m\u001b[0mq_norm\u001b[0m \u001b[1;32mfor\u001b[0m \u001b[0mscore\u001b[0m \u001b[1;32min\u001b[0m \u001b[0mscores\u001b[0m\u001b[1;33m]\u001b[0m\u001b[1;33m\u001b[0m\u001b[1;33m\u001b[0m\u001b[0m\n",
      "\u001b[1;31mIndexError\u001b[0m: only integers, slices (`:`), ellipsis (`...`), numpy.newaxis (`None`) and integer or boolean arrays are valid indices"
     ]
    }
   ],
   "source": [
    "results = index_search('Memento')"
   ]
  },
  {
   "cell_type": "code",
   "execution_count": 32,
   "metadata": {},
   "outputs": [
    {
     "data": {
      "text/plain": [
       "[(0.16056939582947827, 35155),\n",
       " (0.15718873462135707, 13330),\n",
       " (0.15580892217745576, 37607),\n",
       " (0.1485379138540403, 2487),\n",
       " (0.14042652859711635, 34573),\n",
       " (0.13924014073325508, 17758),\n",
       " (0.13512155658997846, 15566),\n",
       " (0.1330696150046359, 3533),\n",
       " (0.13249725484059963, 41117),\n",
       " (0.12548895093423626, 2898)]"
      ]
     },
     "execution_count": 32,
     "metadata": {},
     "output_type": "execute_result"
    }
   ],
   "source": [
    "results"
   ]
  },
  {
   "cell_type": "code",
   "execution_count": 28,
   "metadata": {},
   "outputs": [],
   "source": [
    "def get_10(movie,results):\n",
    "    ten = []\n",
    "    for sim, ind in results[:10]:\n",
    "        if movies['Title'][ind] != movie:\n",
    "            s = movies['Title'][ind]+' (score: '+str(sim)+')'\n",
    "            ten.append(s)\n",
    "    return ten"
   ]
  },
  {
   "cell_type": "code",
   "execution_count": 29,
   "metadata": {},
   "outputs": [
    {
     "data": {
      "text/plain": [
       "['Frauds (score: 0.16056939582947824)',\n",
       " 'Duel in the Jungle (score: 0.15718873462135707)',\n",
       " 'The Fire Raisers (score: 0.15580892217745576)',\n",
       " 'Cover Up (score: 0.1485379138540403)',\n",
       " \"Killer's Carnival (score: 0.14042652859711635)\",\n",
       " 'Perdido por perdido (score: 0.13924014073325505)',\n",
       " 'The Gentleman from Nowhere (score: 0.1351215565899785)',\n",
       " 'Spring Fever (score: 0.1330696150046359)',\n",
       " 'Adulterous Wife: Dizzy (score: 0.13249725484059963)',\n",
       " 'Zombie Girl: The Movie (score: 0.12548895093423626)']"
      ]
     },
     "execution_count": 29,
     "metadata": {},
     "output_type": "execute_result"
    }
   ],
   "source": [
    "get_10('Memento',results)"
   ]
  },
  {
   "cell_type": "code",
   "execution_count": 1,
   "metadata": {},
   "outputs": [
    {
     "ename": "NameError",
     "evalue": "name 'movies' is not defined",
     "output_type": "error",
     "traceback": [
      "\u001b[1;31m---------------------------------------------------------------------------\u001b[0m",
      "\u001b[1;31mNameError\u001b[0m                                 Traceback (most recent call last)",
      "\u001b[1;32m<ipython-input-1-c67d541c1077>\u001b[0m in \u001b[0;36m<module>\u001b[1;34m()\u001b[0m\n\u001b[1;32m----> 1\u001b[1;33m \u001b[0mmovies\u001b[0m\u001b[1;33m[\u001b[0m\u001b[1;34m'Title'\u001b[0m\u001b[1;33m]\u001b[0m\u001b[1;33m[\u001b[0m\u001b[1;36m35155\u001b[0m\u001b[1;33m]\u001b[0m\u001b[1;33m\u001b[0m\u001b[1;33m\u001b[0m\u001b[0m\n\u001b[0m",
      "\u001b[1;31mNameError\u001b[0m: name 'movies' is not defined"
     ]
    }
   ],
   "source": [
    "movies['Title'][35155]"
   ]
  },
  {
   "cell_type": "code",
   "execution_count": null,
   "metadata": {},
   "outputs": [],
   "source": []
  },
  {
   "cell_type": "code",
   "execution_count": null,
   "metadata": {},
   "outputs": [],
   "source": []
  },
  {
   "cell_type": "code",
   "execution_count": null,
   "metadata": {},
   "outputs": [],
   "source": []
  },
  {
   "cell_type": "code",
   "execution_count": null,
   "metadata": {},
   "outputs": [],
   "source": []
  },
  {
   "cell_type": "code",
   "execution_count": null,
   "metadata": {},
   "outputs": [],
   "source": []
  },
  {
   "cell_type": "code",
   "execution_count": 24,
   "metadata": {},
   "outputs": [],
   "source": [
    "#id_to_index = {wikiid:i for i, wikiid in enumerate(movies['WikiID'])}\n",
    "#title_to_id = {t:i for t, i in zip(movies['Title'], movies['WikiID'])}\n",
    "#id_to_title = {v:k for k,v in title_to_id.items()}\n",
    "#title_to_index = {t:i for i, t in enumerate(movies['Title'])}\n",
    "#index_to_title = {v:k for k,v in title_to_index.items()}\n",
    "#movie_titles = [t for t in movies['Title']]"
   ]
  },
  {
   "cell_type": "code",
   "execution_count": 31,
   "metadata": {},
   "outputs": [],
   "source": [
    "doc_by_vocab = vectorizer.fit_transform([s for s in movies['Summary']]).toarray()"
   ]
  },
  {
   "cell_type": "code",
   "execution_count": 33,
   "metadata": {},
   "outputs": [],
   "source": [
    "def get_summary(movie, data):\n",
    "    wiki_id = title_to_id.get(movie)\n",
    "    ind = id_to_index.get(wiki_id)\n",
    "    summary = data['Summary'][ind]\n",
    "    return summary"
   ]
  },
  {
   "cell_type": "code",
   "execution_count": 44,
   "metadata": {},
   "outputs": [],
   "source": [
    "def get_sim(user_mov, other_mov):\n",
    "    j = doc_by_vocab[title_to_index[other_mov]]\n",
    "    result = find_movie(user_mov)\n",
    "    if result[0] in movie_titles:\n",
    "        i = doc_by_vocab[title_to_index[result[0]]]\n",
    "    else:\n",
    "        i = vectorizer.transform([result[1]]).toarray()[0]\n",
    "    cosim = np.dot(i,j) / (np.linalg.norm(i)*np.linalg.norm(j))\n",
    "    return cosim"
   ]
  }
 ],
 "metadata": {
  "kernelspec": {
   "display_name": "env",
   "language": "python",
   "name": "env"
  },
  "language_info": {
   "codemirror_mode": {
    "name": "ipython",
    "version": 3
   },
   "file_extension": ".py",
   "mimetype": "text/x-python",
   "name": "python",
   "nbconvert_exporter": "python",
   "pygments_lexer": "ipython3",
   "version": "3.7.6"
  }
 },
 "nbformat": 4,
 "nbformat_minor": 2
}
