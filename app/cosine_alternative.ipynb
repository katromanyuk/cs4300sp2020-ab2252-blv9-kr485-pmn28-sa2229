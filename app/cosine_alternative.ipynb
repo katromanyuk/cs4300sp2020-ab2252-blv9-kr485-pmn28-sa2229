{
 "cells": [
  {
   "cell_type": "code",
   "execution_count": 1,
   "metadata": {},
   "outputs": [],
   "source": [
    "import re\n",
    "import csv\n",
    "import math\n",
    "import json\n",
    "import numpy as np\n",
    "import pandas as pd\n",
    "import pickle\n",
    "import requests\n",
    "from sklearn.feature_extraction.text import TfidfVectorizer\n",
    "from vaderSentiment.vaderSentiment import SentimentIntensityAnalyzer\n",
    "import lyricsgenius\n",
    "\n",
    "analyzer = SentimentIntensityAnalyzer()\n",
    "vectorizer = TfidfVectorizer(max_features=50000, max_df=0.8, min_df=20, norm='l2')\n",
    "tokenizer = vectorizer.build_tokenizer()\n",
    "\n",
    "#omdb_TOKEN = 'ce887dbd'\n",
    "omdb_TOKEN = '4292bf53' #I paid $1 to have higher daily limit of API calls\n",
    "genius_TOKEN = 'sD0C3epnJdfOQQK4eIC45dHl-Qv7DipToGpuj1n4WeuG5_LDP1HKn31w5Cn1lOux'\n",
    "genius = lyricsgenius.Genius(genius_TOKEN)\n",
    "genius.verbose = False\n",
    "genius.remove_section_headers = True"
   ]
  },
  {
   "cell_type": "code",
   "execution_count": 41,
   "metadata": {},
   "outputs": [],
   "source": [
    "movies = pd.read_csv('merged_data.csv')"
   ]
  },
  {
   "cell_type": "code",
   "execution_count": 42,
   "metadata": {},
   "outputs": [],
   "source": [
    "def listify(df):\n",
    "    genres = []\n",
    "    languages = []\n",
    "    countries = []\n",
    "    for x,y,z in zip(df['Genres'],df['Languages'],df['Countries']):\n",
    "        g = re.findall(': \\\"(.*?)\\\"', x)\n",
    "        l = re.findall(': \\\"(.*?)\\\"', y)\n",
    "        c = re.findall(': \\\"(.*?)\\\"', z)\n",
    "        genres.append(g)\n",
    "        languages.append(l)\n",
    "        countries.append(c)\n",
    "    #df['Genres'] = genres\n",
    "    df['Languages'] = languages\n",
    "    df['Countries'] = countries"
   ]
  },
  {
   "cell_type": "code",
   "execution_count": 43,
   "metadata": {},
   "outputs": [],
   "source": [
    "listify(movies)"
   ]
  },
  {
   "cell_type": "code",
   "execution_count": 44,
   "metadata": {},
   "outputs": [],
   "source": [
    "is_english = ['English Language' in m for m in movies['Languages']]"
   ]
  },
  {
   "cell_type": "code",
   "execution_count": 46,
   "metadata": {},
   "outputs": [],
   "source": [
    "movies = movies[is_english]"
   ]
  },
  {
   "cell_type": "code",
   "execution_count": 47,
   "metadata": {},
   "outputs": [],
   "source": [
    "movies = movies.reset_index()\n",
    "movies = movies.drop(['index'], axis=1)"
   ]
  },
  {
   "cell_type": "code",
   "execution_count": 48,
   "metadata": {},
   "outputs": [],
   "source": [
    "imdb250 = pd.read_csv('imdb250.csv')\n",
    "imdb250 = imdb250[['Title','imdbRating']]"
   ]
  },
  {
   "cell_type": "code",
   "execution_count": 49,
   "metadata": {},
   "outputs": [],
   "source": [
    "title_to_index = {t:i for i, t in enumerate(movies['Title'])}"
   ]
  },
  {
   "cell_type": "code",
   "execution_count": 50,
   "metadata": {},
   "outputs": [],
   "source": [
    "ratings = np.zeros(len(movies))\n",
    "for mov,rate in tuple(zip(imdb250['Title'],imdb250['imdbRating'])):\n",
    "    if mov in title_to_index:\n",
    "        ind = title_to_index[mov]\n",
    "        ratings[ind] = rate"
   ]
  },
  {
   "cell_type": "code",
   "execution_count": 51,
   "metadata": {},
   "outputs": [],
   "source": [
    "movies['Rating'] = ratings"
   ]
  },
  {
   "cell_type": "code",
   "execution_count": 53,
   "metadata": {},
   "outputs": [],
   "source": [
    "movies.to_csv (r'merged_data2.csv', index = False, header=True)"
   ]
  },
  {
   "cell_type": "code",
   "execution_count": 54,
   "metadata": {},
   "outputs": [],
   "source": [
    "movies['toks'] = [tokenizer(summary) for summary in movies['Summary']]"
   ]
  },
  {
   "cell_type": "code",
   "execution_count": 7,
   "metadata": {},
   "outputs": [
    {
     "data": {
      "text/plain": [
       "\"years = []\\nfor x in movies['ReleaseDate']:\\n    x = str(x)[:4]\\n    if x != 'nan':\\n        years.append(int(x))\\n    else:\\n        years.append(3000)\\nmovies['ReleaseDate'] = years\""
      ]
     },
     "execution_count": 7,
     "metadata": {},
     "output_type": "execute_result"
    }
   ],
   "source": [
    "'''years = []\n",
    "for x in movies['ReleaseDate']:\n",
    "    x = str(x)[:4]\n",
    "    if x != 'nan':\n",
    "        years.append(int(x))\n",
    "    else:\n",
    "        years.append(3000)\n",
    "movies['ReleaseDate'] = years'''\n",
    "\n",
    "#movies = movies[movies['ReleaseDate']>=1960]\n",
    "#movies = movies.reset_index()\n",
    "#movies = movies.drop(['index'], axis=1)"
   ]
  },
  {
   "cell_type": "code",
   "execution_count": 56,
   "metadata": {},
   "outputs": [
    {
     "data": {
      "text/html": [
       "<div>\n",
       "<style scoped>\n",
       "    .dataframe tbody tr th:only-of-type {\n",
       "        vertical-align: middle;\n",
       "    }\n",
       "\n",
       "    .dataframe tbody tr th {\n",
       "        vertical-align: top;\n",
       "    }\n",
       "\n",
       "    .dataframe thead th {\n",
       "        text-align: right;\n",
       "    }\n",
       "</style>\n",
       "<table border=\"1\" class=\"dataframe\">\n",
       "  <thead>\n",
       "    <tr style=\"text-align: right;\">\n",
       "      <th></th>\n",
       "      <th>WikiID</th>\n",
       "      <th>Title</th>\n",
       "      <th>ReleaseDate</th>\n",
       "      <th>Runtime</th>\n",
       "      <th>Languages</th>\n",
       "      <th>Countries</th>\n",
       "      <th>Genres</th>\n",
       "      <th>Summary</th>\n",
       "      <th>compound</th>\n",
       "      <th>pos</th>\n",
       "      <th>neg</th>\n",
       "      <th>neu</th>\n",
       "      <th>Rating</th>\n",
       "      <th>toks</th>\n",
       "    </tr>\n",
       "  </thead>\n",
       "  <tbody>\n",
       "    <tr>\n",
       "      <th>0</th>\n",
       "      <td>975900</td>\n",
       "      <td>Ghosts of Mars</td>\n",
       "      <td>2001-08-24</td>\n",
       "      <td>98.0</td>\n",
       "      <td>[English Language]</td>\n",
       "      <td>[United States of America]</td>\n",
       "      <td>{\"/m/01jfsb\": \"Thriller\", \"/m/06n90\": \"Science...</td>\n",
       "      <td>Set in the second half of the 22nd century, th...</td>\n",
       "      <td>-0.9913</td>\n",
       "      <td>0.065</td>\n",
       "      <td>0.150</td>\n",
       "      <td>0.786</td>\n",
       "      <td>0.0</td>\n",
       "      <td>[Set, in, the, second, half, of, the, 22nd, ce...</td>\n",
       "    </tr>\n",
       "    <tr>\n",
       "      <th>1</th>\n",
       "      <td>9363483</td>\n",
       "      <td>White Of The Eye</td>\n",
       "      <td>1987</td>\n",
       "      <td>110.0</td>\n",
       "      <td>[English Language]</td>\n",
       "      <td>[United Kingdom]</td>\n",
       "      <td>{\"/m/01jfsb\": \"Thriller\", \"/m/0glj9q\": \"Erotic...</td>\n",
       "      <td>A series of murders of rich young women throug...</td>\n",
       "      <td>-0.9985</td>\n",
       "      <td>0.078</td>\n",
       "      <td>0.198</td>\n",
       "      <td>0.724</td>\n",
       "      <td>0.0</td>\n",
       "      <td>[series, of, murders, of, rich, young, women, ...</td>\n",
       "    </tr>\n",
       "    <tr>\n",
       "      <th>2</th>\n",
       "      <td>18998739</td>\n",
       "      <td>The Sorcerer's Apprentice</td>\n",
       "      <td>2002</td>\n",
       "      <td>86.0</td>\n",
       "      <td>[English Language]</td>\n",
       "      <td>[South Africa]</td>\n",
       "      <td>{\"/m/0hqxf\": \"Family Film\", \"/m/01hmnh\": \"Fant...</td>\n",
       "      <td>Every hundred years, the evil Morgana  returns...</td>\n",
       "      <td>-0.8885</td>\n",
       "      <td>0.092</td>\n",
       "      <td>0.131</td>\n",
       "      <td>0.776</td>\n",
       "      <td>0.0</td>\n",
       "      <td>[Every, hundred, years, the, evil, Morgana, re...</td>\n",
       "    </tr>\n",
       "    <tr>\n",
       "      <th>3</th>\n",
       "      <td>6631279</td>\n",
       "      <td>Little city</td>\n",
       "      <td>1997-04-04</td>\n",
       "      <td>93.0</td>\n",
       "      <td>[English Language]</td>\n",
       "      <td>[United States of America]</td>\n",
       "      <td>{\"/m/06cvj\": \"Romantic comedy\", \"/m/0hj3n0w\": ...</td>\n",
       "      <td>Adam, a San Francisco-based artist who works a...</td>\n",
       "      <td>-0.7097</td>\n",
       "      <td>0.089</td>\n",
       "      <td>0.108</td>\n",
       "      <td>0.804</td>\n",
       "      <td>0.0</td>\n",
       "      <td>[Adam, San, Francisco, based, artist, who, wor...</td>\n",
       "    </tr>\n",
       "    <tr>\n",
       "      <th>4</th>\n",
       "      <td>171005</td>\n",
       "      <td>Henry V</td>\n",
       "      <td>1989-11-08</td>\n",
       "      <td>137.0</td>\n",
       "      <td>[English Language]</td>\n",
       "      <td>[United Kingdom]</td>\n",
       "      <td>{\"/m/04xvh5\": \"Costume drama\", \"/m/082gq\": \"Wa...</td>\n",
       "      <td>{{Plot|dateAct 1Act 2Act 3Act 4Act 5 Finally n...</td>\n",
       "      <td>0.3182</td>\n",
       "      <td>0.065</td>\n",
       "      <td>0.032</td>\n",
       "      <td>0.903</td>\n",
       "      <td>0.0</td>\n",
       "      <td>[Plot, dateAct, 1Act, 2Act, 3Act, 4Act, Finall...</td>\n",
       "    </tr>\n",
       "  </tbody>\n",
       "</table>\n",
       "</div>"
      ],
      "text/plain": [
       "     WikiID                      Title ReleaseDate  Runtime  \\\n",
       "0    975900             Ghosts of Mars  2001-08-24     98.0   \n",
       "1   9363483           White Of The Eye        1987    110.0   \n",
       "2  18998739  The Sorcerer's Apprentice        2002     86.0   \n",
       "3   6631279                Little city  1997-04-04     93.0   \n",
       "4    171005                    Henry V  1989-11-08    137.0   \n",
       "\n",
       "            Languages                   Countries  \\\n",
       "0  [English Language]  [United States of America]   \n",
       "1  [English Language]            [United Kingdom]   \n",
       "2  [English Language]              [South Africa]   \n",
       "3  [English Language]  [United States of America]   \n",
       "4  [English Language]            [United Kingdom]   \n",
       "\n",
       "                                              Genres  \\\n",
       "0  {\"/m/01jfsb\": \"Thriller\", \"/m/06n90\": \"Science...   \n",
       "1  {\"/m/01jfsb\": \"Thriller\", \"/m/0glj9q\": \"Erotic...   \n",
       "2  {\"/m/0hqxf\": \"Family Film\", \"/m/01hmnh\": \"Fant...   \n",
       "3  {\"/m/06cvj\": \"Romantic comedy\", \"/m/0hj3n0w\": ...   \n",
       "4  {\"/m/04xvh5\": \"Costume drama\", \"/m/082gq\": \"Wa...   \n",
       "\n",
       "                                             Summary  compound    pos    neg  \\\n",
       "0  Set in the second half of the 22nd century, th...   -0.9913  0.065  0.150   \n",
       "1  A series of murders of rich young women throug...   -0.9985  0.078  0.198   \n",
       "2  Every hundred years, the evil Morgana  returns...   -0.8885  0.092  0.131   \n",
       "3  Adam, a San Francisco-based artist who works a...   -0.7097  0.089  0.108   \n",
       "4  {{Plot|dateAct 1Act 2Act 3Act 4Act 5 Finally n...    0.3182  0.065  0.032   \n",
       "\n",
       "     neu  Rating                                               toks  \n",
       "0  0.786     0.0  [Set, in, the, second, half, of, the, 22nd, ce...  \n",
       "1  0.724     0.0  [series, of, murders, of, rich, young, women, ...  \n",
       "2  0.776     0.0  [Every, hundred, years, the, evil, Morgana, re...  \n",
       "3  0.804     0.0  [Adam, San, Francisco, based, artist, who, wor...  \n",
       "4  0.903     0.0  [Plot, dateAct, 1Act, 2Act, 3Act, 4Act, Finall...  "
      ]
     },
     "execution_count": 56,
     "metadata": {},
     "output_type": "execute_result"
    }
   ],
   "source": [
    "movies.head()"
   ]
  },
  {
   "cell_type": "code",
   "execution_count": 55,
   "metadata": {},
   "outputs": [
    {
     "data": {
      "text/plain": [
       "24775"
      ]
     },
     "execution_count": 55,
     "metadata": {},
     "output_type": "execute_result"
    }
   ],
   "source": [
    "num_movies = len(movies)\n",
    "num_movies"
   ]
  },
  {
   "cell_type": "code",
   "execution_count": 75,
   "metadata": {},
   "outputs": [],
   "source": [
    "def build_ivdidx_df(movies):\n",
    "    word_set = []\n",
    "    for t in movies['toks']:\n",
    "        word_set+=t\n",
    "    word_set = set(word_set)\n",
    "    word_dict = {w: [[],[]] for w in word_set}\n",
    "    for i in range(len(movies)):\n",
    "        tokens = movies['toks'][i]\n",
    "        for w in set(tokens):\n",
    "            cw = tokens.count(w)\n",
    "            word_dict[w][0].append(i)\n",
    "            word_dict[w][1].append(cw)\n",
    "    df = pd.DataFrame.from_dict(word_dict, orient='index')\n",
    "    return df"
   ]
  },
  {
   "cell_type": "code",
   "execution_count": 76,
   "metadata": {},
   "outputs": [],
   "source": [
    "def build_inverted_index(movies):\n",
    "    word_set = []\n",
    "    for t in movies['toks']:\n",
    "        word_set+=t\n",
    "    word_set = set(word_set)\n",
    "    word_dict = {w: [] for w in word_set}\n",
    "    for i in range(len(movies)):\n",
    "        for w in set(movies['toks'][i]):\n",
    "            if w in movies['toks'][i]:\n",
    "                word_dict[w].append((i,movies['toks'][i].count(w)))\n",
    "    return word_dict"
   ]
  },
  {
   "cell_type": "code",
   "execution_count": 77,
   "metadata": {},
   "outputs": [],
   "source": [
    "#took long time to run, only needs to be done once\n",
    "#inv_idx = build_inverted_index(movies)\n",
    "#np.save('inv_idx.npy', inv_idx)"
   ]
  },
  {
   "cell_type": "code",
   "execution_count": 57,
   "metadata": {},
   "outputs": [],
   "source": [
    "inv_idx = np.load('inv_idx.npy',allow_pickle='TRUE').item()"
   ]
  },
  {
   "cell_type": "code",
   "execution_count": 58,
   "metadata": {},
   "outputs": [],
   "source": [
    "idf = {x: math.log2(num_movies/(1+len(inv_idx[x]))) for x in inv_idx if len(inv_idx[x])>=20 and len(inv_idx[x])/num_movies<=0.8}"
   ]
  },
  {
   "cell_type": "code",
   "execution_count": 59,
   "metadata": {},
   "outputs": [],
   "source": [
    "def compute_doc_norms(index, idf, n_docs):\n",
    "    norms_sq = np.zeros(n_docs)\n",
    "    for t in idf:\n",
    "        for (doc,cnt) in index[t]:\n",
    "            norms_sq[doc] += (cnt*idf[t])**2\n",
    "    return np.sqrt(norms_sq)"
   ]
  },
  {
   "cell_type": "code",
   "execution_count": 60,
   "metadata": {},
   "outputs": [],
   "source": [
    "#norms = compute_doc_norms(inv_idx, idf, num_movies)\n",
    "#np.savetxt('norms.csv', norms, delimiter=',')"
   ]
  },
  {
   "cell_type": "code",
   "execution_count": 61,
   "metadata": {},
   "outputs": [],
   "source": [
    "norms = np.loadtxt('norms.csv', delimiter=',')"
   ]
  },
  {
   "cell_type": "code",
   "execution_count": 62,
   "metadata": {},
   "outputs": [],
   "source": [
    "def cleanjson(result):\n",
    "    title = result[result.find(\"Title\")+8:result.find(\"Year\")-3]\n",
    "    plot = result[result.find(\"Plot\")+7:result.find(\"Language\")-3]\n",
    "    try:\n",
    "        review_imdb = float(result[result.find(\n",
    "        '\"Internet Movie Database\",\"Value\":\"')+35:result.find('Source\":\"Rotten Tomatoes\"')-8])\n",
    "    except:\n",
    "        review_imdb = 0\n",
    "    try:\n",
    "        review_rotten = float(result[result.find(\n",
    "        'Source\":\"Rotten Tomatoes\",\"Value\":')+35: result.find('},{\"Source\":\"Metacritic\"')-2])\n",
    "    except:\n",
    "        review_rotten = 0\n",
    "    return [title, plot, review_imdb, review_rotten]\n",
    "\n",
    "def response(result):\n",
    "    text = result[result.find('\"Response\":' )+12:]\n",
    "    return text.find('True') >-1\n",
    "\n",
    "def find_movie(movie):\n",
    "    title = \"\"\n",
    "    plot = \"\"\n",
    "    query = \"http://www.omdbapi.com/?apikey=\" + omdb_TOKEN + \"&t=\" + movie\n",
    "    params = {\"r\": \"json\", \"plot\": \"full\"}\n",
    "    result = requests.get(query, params)\n",
    "    if response(result.text):\n",
    "        json = cleanjson(result.text)\n",
    "        plot = json[1]\n",
    "        title = json[0]\n",
    "        review_imdb = json[2]\n",
    "        review_rotten = json[3]\n",
    "    else:\n",
    "        return 'ERROR'\n",
    "    return (title, plot, review_imdb, review_rotten)"
   ]
  },
  {
   "cell_type": "code",
   "execution_count": 63,
   "metadata": {},
   "outputs": [],
   "source": [
    "#def get_sent_dist(p1, n1):\n",
    "def get_sent_dist(comp):\n",
    "    dists = []\n",
    "    for c in movies['compound']:\n",
    "        dists.append(abs(float(c)-comp))\n",
    "    #for p2,n2 in tuple(zip(movies['pos'], movies['neg'])):\n",
    "    #    dists.append(math.sqrt((p2 - p1)**2 + (n2 - n1)**2))\n",
    "    dists = max(dists)*np.ones(len(dists))-dists\n",
    "    return dists"
   ]
  },
  {
   "cell_type": "code",
   "execution_count": 64,
   "metadata": {},
   "outputs": [
    {
     "name": "stdout",
     "output_type": "stream",
     "text": [
      "{'neg': 0.036, 'neu': 0.768, 'pos': 0.196, 'compound': 0.9966}\n"
     ]
    },
    {
     "data": {
      "text/plain": [
       "1.9965000000000002"
      ]
     },
     "execution_count": 64,
     "metadata": {},
     "output_type": "execute_result"
    }
   ],
   "source": [
    "x = genius.search_song('happier','bastille')\n",
    "s = analyzer.polarity_scores(x.lyrics)\n",
    "print(s)\n",
    "pos = s['pos']\n",
    "neg = s['neg']\n",
    "comp = s['compound']\n",
    "#dists1 = np.asarray(get_sent_dist(pos,neg))\n",
    "dists1 = np.asarray(get_sent_dist(comp))\n",
    "max(dists1)"
   ]
  },
  {
   "cell_type": "code",
   "execution_count": 65,
   "metadata": {},
   "outputs": [
    {
     "name": "stdout",
     "output_type": "stream",
     "text": [
      "{'neg': 0.127, 'neu': 0.788, 'pos': 0.085, 'compound': -0.9868}\n"
     ]
    },
    {
     "data": {
      "text/plain": [
       "1.9867"
      ]
     },
     "execution_count": 65,
     "metadata": {},
     "output_type": "execute_result"
    }
   ],
   "source": [
    "x = genius.search_song('warning','eminem')\n",
    "s = analyzer.polarity_scores(x.lyrics)\n",
    "print(s)\n",
    "pos = s['pos']\n",
    "neg = s['neg']\n",
    "comp = s['compound']\n",
    "#dists2 = np.asarray(get_sent_dist(pos,neg))\n",
    "dists2 = np.asarray(get_sent_dist(comp))\n",
    "max(dists2)"
   ]
  },
  {
   "cell_type": "code",
   "execution_count": 29,
   "metadata": {},
   "outputs": [],
   "source": [
    "q = \"Dom Cobb is a skilled thief, the absolute best in the dangerous art of extraction, stealing valuable secrets from deep within the subconscious during the dream state, when the mind is at its most vulnerable. Cobb's rare ability has made him a coveted player in this treacherous new world of corporate espionage, but it has also made him an international fugitive and cost him everything he has ever loved. Now Cobb is being offered a chance at redemption. One last job could give him his life back but only if he can accomplish the impossible - inception. Instead of the perfect heist, Cobb and his team of specialists have to pull off the reverse: their task is not to steal an idea but to plant one. If they succeed, it could be the perfect crime. But no amount of careful planning or expertise can prepare the team for the dangerous enemy that seems to predict their every move. An enemy that only Cobb could have seen coming.\""
   ]
  },
  {
   "cell_type": "code",
   "execution_count": 39,
   "metadata": {},
   "outputs": [],
   "source": [
    "def get_scores(query,dists):\n",
    "    scores = np.zeros(len(norms))\n",
    "    docs = [i for i in range(len(norms))]\n",
    "    q = query.lower()\n",
    "    q_tokens = tokenizer(q)\n",
    "    q_norm_sq = 0\n",
    "    for t in set(q_tokens):\n",
    "        if t in idf:\n",
    "            q_norm_sq += (q_tokens.count(t)*idf[t])**2\n",
    "            for (doc,cnt) in inv_idx[t]:\n",
    "                scores[doc] += (q_tokens.count(t)*cnt*idf[t]**2)/norms[doc]\n",
    "    q_norm = math.sqrt(q_norm_sq)\n",
    "    scores = np.asarray([score/q_norm for score in scores])\n",
    "    dists = np.asarray(dists)\n",
    "    total_scores = (2*scores+.1*dists)\n",
    "    #total_scores = (2.5*scores+1*dists)\n",
    "    result = sorted(tuple(zip(total_scores, docs)),reverse=True)\n",
    "    return result[:6]"
   ]
  },
  {
   "cell_type": "code",
   "execution_count": 50,
   "metadata": {},
   "outputs": [
    {
     "data": {
      "text/plain": [
       "'R'"
      ]
     },
     "execution_count": 50,
     "metadata": {},
     "output_type": "execute_result"
    }
   ],
   "source": [
    "m = find_movie('Memento')\n",
    "m[1]"
   ]
  },
  {
   "cell_type": "code",
   "execution_count": 40,
   "metadata": {},
   "outputs": [],
   "source": [
    "res1 = get_scores(q,dists1)\n",
    "res2 = get_scores(q,dists2)"
   ]
  },
  {
   "cell_type": "code",
   "execution_count": 41,
   "metadata": {},
   "outputs": [
    {
     "data": {
      "text/plain": [
       "[(0.47000657721327344, 34741),\n",
       " (0.40915635146129875, 31082),\n",
       " (0.3978284875412698, 3389),\n",
       " (0.3685231797157522, 35988),\n",
       " (0.367194166507382, 15134),\n",
       " (0.36618799397390317, 8473)]"
      ]
     },
     "execution_count": 41,
     "metadata": {},
     "output_type": "execute_result"
    }
   ],
   "source": [
    "res1[:15]"
   ]
  },
  {
   "cell_type": "code",
   "execution_count": 42,
   "metadata": {},
   "outputs": [
    {
     "data": {
      "text/plain": [
       "[(0.44853776594019956, 36267),\n",
       " (0.4239304336302482, 28374),\n",
       " (0.40701707225395467, 14441),\n",
       " (0.398165340861654, 4034),\n",
       " (0.39652776314841087, 21965),\n",
       " (0.3903999763151464, 23285)]"
      ]
     },
     "execution_count": 42,
     "metadata": {},
     "output_type": "execute_result"
    }
   ],
   "source": [
    "res2[:15]"
   ]
  },
  {
   "cell_type": "code",
   "execution_count": 46,
   "metadata": {},
   "outputs": [
    {
     "name": "stdout",
     "output_type": "stream",
     "text": [
      "The Thief and the Cobbler\n",
      " The film opens with a narrator describing a prosperous city called the Golden City, which is ruled by the sleepy King Nod and protected by three golden balls positioned atop its tallest minaret. According to a prophecy, the city would fall to a race of warlike, one-eyed monsters referred to as \"one-eyes\" should the balls be removed, and could only be saved by \"the simplest soul with the smallest and simplest of things\". Living in the city are a humble and good-hearted cobbler named Tack and a nameless, unsuccessful yet persistent thief. Both characters are mute and have no dialogue. When the thief tries his luck in Tack's house, the two scuffle and stumble onto the street, causing Tack's tacks to fall out onto the street while Zigzag, King Nod's Grand Vizier, walks through it. Zigzag steps on one of the tacks and orders Tack to be arrested while the thief escapes. Tack is brought before King Nod and his daughter, Princess Yum-Yum, who takes an instant liking to Tack. Before Zigzag can convince Nod to have Tack executed, Yum-Yum saves Tack by breaking one of her shoes and ordering Tack to fix it. While repairing her shoe, Tack and Yum-Yum become increasingly attracted to each other, much to the jealousy of Zigzag, who lusts after Yum-Yum and plots to take over the kingdom by marrying her. Meanwhile, the thief notices the golden balls atop the minaret and decides to steal them. After breaking into the palace through a gutter, the thief steals the repaired shoe from Tack, leading the cobbler to chase him through the palace. Upon retrieving the shoe, Tack bumps into Zigzag, who notices the shoe is fixed and takes the opportunity to lock Tack in a dungeon.  The next morning, Nod has a vision of the Golden City's doom at the hands of the one-eyes. While Zigzag tries to convince Nod of the kingdom's security under the protection of the golden balls, the thief manages to steal the balls after several failed attempts, only to lose them to Zigzag's minions. Tack escapes from his cell using his cobbling tools during the ensuing panic. Nod notices the balls' disappearance after being warned of the one-eyes by a dying soldier who was mortally wounded during an attack against them. Zigzag attempts to use the stolen balls to blackmail the king into letting him marry Yum-Yum. When Nod refuses, Zigzag defects to the one-eyes and gives them the balls instead. Nod sends Yum-Yum, her nanny, and Tack on a journey to ask for help from a \"mad, holy old witch\" who lives in the desert. They are secretly followed by the thief, who hears of treasures on the journey but has no success stealing any. They also meet a band of dimwitted brigands led by Chief Ruthless in the desert whom Yum-Yum declares as her royal guard. The protagonists reach the hand-shaped tower where the witch lives, and learn from the witch that Tack is the one prophesied to save the Golden City. The witch also presents a riddle: \"Attack, attack, attack! A tack, see? But it's what you do with what you've got!\" The protagonists return to the Golden City to find the one-eyes' massive war machine approaching. Remembering the witch's riddle, Tack shoots a single tack into the enemy's midst, sparking a Goldberg-esque chain reaction that causes the war machine to slowly collapse and destroy the entire one-eye army. Zigzag tries to escape, but falls into a pit where he is eaten alive by alligators and his mistreated pet vulture Phido. The thief, avoiding many deathtraps, steals the golden balls from the collapsing machine, only to have them taken away from him by Tack, after which the thief gives up and lets Tack have them. With peace restored and the prophecy fulfilled, the city celebrates as Tack and Yum-Yum marry; before they kiss, Tack speaks for the first and only time in the film, saying \"I love you\" to Yum-Yum in a deep voice. The film ends with the thief stealing the entire reel of film and running away.  The version by Fred Calvert is considerably different from Williams' workprint. Four songs have been added – the film originally had none. Many scenes have been cut: These include the thief attempting to steal various objects along with evading capital punishment for it, and the subplot where Zigzag tries to feed Tack to Phido. Also removed are any references to the \"bountiful maiden from Mombassa\", whom Zigzag gives to King Nod as \"a plaything\" in the workprint. Tack, who was  mute in the original, speaks many times in the film and narrates most scenes in past tense as an older Tack: The original had narration only in the beginning by a voice over. Some subplots have been added; In one, Yum-Yum is tired of doing nothing and wants to help her father: She volunteers to be sent to the perilous journey in order to prove herself to be more than \"just a pretty face\". Another subplot is that there is a social class romance between Tack and Yum-Yum that is similar to Disney's Aladdin: The Nanny scolds Yum Yum for liking a lowly cobbler so much, and is very negative towards Tack. In the original, her behaviour is very different and much more positive. Also, there are several lines of alternate or removed dialogue. Additionally, the following scene-specific changes have been made: * In the scene where Yum-Yum is introduced, she tells Nanny that she is tired of living a life of \"regal splendor\" and sings the first added song of the film, \"She is More\". * The scene where Zigzag's plans are revealed to the audience has been moved to an earlier point of the film . * After Zigzag puts Tack in his cell, Tack and Yum-Yum sing the second song, \"Am I Feeling Love?\". * The one-eyes are revealed at the very beginning during the opening narration. The scene where the One-Eyes would have been first introduced in Williams' version has been changed to a nightmare for King Nod, who then calls Zigzag immediately. The king had a nightmare in the original, too, but more abstract and later in the film. * The reason for the King refusing to let Zigzag marry Yum-Yum is that he finds it ridiculous that his minister, who is a practitioner of the black arts, should wed a princess, who is only allowed to marry someone pure of heart. * The brigands are a troupe of loafers who were sent twenty years ago by the King to guard his borders. Because none of them are literate, they do not know when to return and have become bandits. They sing the song, \"Bom Bom Bom Beem Bom\" to describe their situation. Oddly, they seem to understand the text in their \"Brigand's Book\" very clearly. * The Witch first appears as a floating eye, instead of being initially inside a tiny urn. * The Witch's riddle is: \"When to the wall you find your back; a tack, a tack, a tack!\" * The way the slave women kill the Mighty One-eye is changed: In the original, they chant \"throne\" and sit on him . In this version, they throw him off the cliff. * During the collapse of the war machine, Tack and Zigzag have a hand-to-hand fight. The fight ends with Tack sewing Zigzag's robe, disabling him. * When One-Eye's army has been broken, the thief emerges and  willingly hands the Golden Balls to the King. When Tack and the Princess marry, there are flashbacks of all their times together up to that point, while the song \"It's So Amazing\" plays. Tack mentions that the thief gave him his word that he would never steal again, with the thief then shown breaking his promise by stealing the \"The End\" sign and the entire film. * Because Tack now has a voice throughout the film, the gag where he has a deep voice has been removed.  The Miramax version includes all changes made in The Princess and the Cobbler, and adds the following: * Several previously mute characters were given voices, most notably the thief . Other characters that have added voices are Phido and the alligators. * The Golden City is called Baghdad. * The Witch is the benevolent twin sister of the evil One-Eye. * The scenes with the witch in her human form are removed in this version of the film, leaving only a floating eye and a ghostlike image. * The Witch's riddle is extended to: \"When to the wall you find your back; a tack, a tack, a tack! Belief in yourselves is what you lack! A tack, a tack, and never look back!\" * Most scenes featuring the One-eye's slave women have been removed, although he can still be seen sitting on them. * The scene where the Mighty One-eye dies has been removed, and he appears to be alive when his machine is shown burning . Whether or not he dies afterward is unknown, although it is implied by Tack that he did – Tack says that \"One-eye and his army were defeated for all eternity.\" * The ending has been entirely recut. At the end, Tack becomes Prince and the first Arabian Knight. The song \"It's So Amazing\" has been removed. During the wedding, the thief attempts to steal the balls again. Tack ends the story by saying: \"So next time you see a shooting star, be proud of who you really are. Do in your heart what you know is right, and you too shall become an Arabian Knight.\" Tack also mentions that the thief eventually was put in jail for years but becomes the Captain of the Guards and the king even allows him to steal one last thing which explains why he took the end sign as well as the entire film. * The end credits for the Miramax version featured the songs It's So Amazing, the short version of Bom, Bom, Bom, Beem, Bom, and the Arnold McCuller/Andrea Robinson version of the song Am I Feeling Love?, but the end credits for the Majestic Films version only featured the songs Bom, Bom, Bom, Beem, Bom  and the Arnold McCuller/Andrea Robinson version of the song Am I Feeling Love?.  The popular unofficial fan restoration by Garrett Gilchrist mostly follows Richard Williams' workprint very closely, at least in its intent, using most of its original audio track and editing structure. In order to present a more complete film, Gilchrist added additional music  and sound effects, and also included finished footage that does not appear in a finished state in the workprint, whether taken from Calvert's versions or from other rare sources. Most of the story changes made by Fred Calvert and Miramax are not present, but it does include a few minor Calvert-only scenes or alterations, either as a side effect of using Calvert's footage for a major video source or because Gilchrist felt these scenes were useful to the storyline. For this reason, Gilchrist does not refer to his edit as a \"Director's Cut.\"<ref nameThieves, Cobblers, and Fan Edits: The 50-Year Odyssey of an Animated Masterpiece | urlTested | date29 September 2012}}  * Nanny becomes impatient with Yumyum and Tack's burgeoning romance and pushes her away so she can have her bath.  * The Thief's arrest for stealing an emerald has a longer ending.  * King Nod's line to his daughter, voiced by Clive Revill : \"My princess... I hardly know you... so brave. Just like your dear mother was! [chuckle] Very well. You will go. Look here!\"  * The Mad and Holy Old Witch appears first as an eye, coming out of a lamp.  * The Old Witch says \"Mystic fumes, show me the way ...\"  * Zigzag tries to convince One Eye to spare the Princess. \"She is the price for my traitorous deed.\"  * Toward the end of the film, Zigzag tries to kidnap Yumyum on his horse. Tack fights back, punches Zigzag and stitches his cloak together. Tack and Yumyum hug. Zigzag hops away, falling into a pit for his death scene.  * The royal guards praise The Thief for returning the three golden balls, and lift him up.  * The credits roll over deleted-scene footage, including a section of the credits from The Princess and the Cobbler, showing The Thief on springs trying to steal the Buddha Ruby. * Gilchrist has said that the \"Mark IV\" version of The Recobbled Cut, coming 2013, will have longer scenes with the Brigands, taken from deleted scene audio.\n",
      "0.1\n",
      "0.126\n",
      "-0.9966\n",
      "0.0033999999999998476\n",
      "1.9768999999999999\n"
     ]
    }
   ],
   "source": [
    "j = 4034\n",
    "print(movies['Title'][j])\n",
    "print(movies['Summary'][j])\n",
    "print(movies['pos'][j])\n",
    "print(movies['neg'][j])\n",
    "print(movies['compound'][j])\n",
    "print(dists1[j])\n",
    "print(dists2[j])"
   ]
  },
  {
   "cell_type": "code",
   "execution_count": 57,
   "metadata": {},
   "outputs": [],
   "source": [
    "def print_ten(results):\n",
    "    ten = []\n",
    "    i = 1\n",
    "    for (score,ind) in results:\n",
    "        if movies['Title'][ind] != movie:\n",
    "            ten.append(str(i)+'.')\n",
    "            ten.append(movies['Title'][ind])\n",
    "            ten.append('Score: '+str(score))\n",
    "            i+=1\n",
    "    return ten"
   ]
  },
  {
   "cell_type": "code",
   "execution_count": null,
   "metadata": {},
   "outputs": [],
   "source": []
  },
  {
   "cell_type": "code",
   "execution_count": null,
   "metadata": {},
   "outputs": [],
   "source": []
  },
  {
   "cell_type": "code",
   "execution_count": null,
   "metadata": {},
   "outputs": [],
   "source": []
  },
  {
   "cell_type": "code",
   "execution_count": null,
   "metadata": {},
   "outputs": [],
   "source": []
  },
  {
   "cell_type": "code",
   "execution_count": null,
   "metadata": {},
   "outputs": [],
   "source": []
  },
  {
   "cell_type": "code",
   "execution_count": null,
   "metadata": {},
   "outputs": [],
   "source": []
  },
  {
   "cell_type": "code",
   "execution_count": null,
   "metadata": {},
   "outputs": [],
   "source": []
  },
  {
   "cell_type": "code",
   "execution_count": null,
   "metadata": {},
   "outputs": [],
   "source": []
  },
  {
   "cell_type": "code",
   "execution_count": null,
   "metadata": {},
   "outputs": [],
   "source": []
  },
  {
   "cell_type": "code",
   "execution_count": null,
   "metadata": {},
   "outputs": [],
   "source": []
  },
  {
   "cell_type": "code",
   "execution_count": null,
   "metadata": {},
   "outputs": [],
   "source": []
  },
  {
   "cell_type": "code",
   "execution_count": 1,
   "metadata": {},
   "outputs": [],
   "source": [
    "import csv\n",
    "import math\n",
    "import json\n",
    "import numpy as np\n",
    "import pandas as pd\n",
    "import pickle\n",
    "import requests\n",
    "import lyricsgenius\n",
    "from vaderSentiment.vaderSentiment import SentimentIntensityAnalyzer\n",
    "from sklearn.feature_extraction.text import TfidfVectorizer"
   ]
  },
  {
   "cell_type": "code",
   "execution_count": 6,
   "metadata": {},
   "outputs": [],
   "source": [
    "genius_TOKEN = 'sD0C3epnJdfOQQK4eIC45dHl-Qv7DipToGpuj1n4WeuG5_LDP1HKn31w5Cn1lOux'\n",
    "genius = lyricsgenius.Genius(genius_TOKEN)\n",
    "genius.verbose = False\n",
    "genius.remove_section_headers = True\n",
    "omdb_TOKEN = 'ce887dbd'\n",
    "analyzer = SentimentIntensityAnalyzer()\n",
    "vectorizer = TfidfVectorizer(stop_words='english', max_features=50000, max_df=0.8, min_df=20, norm='l2')\n",
    "tokenizer = vectorizer.build_tokenizer()\n",
    "\n",
    "movies = pd.read_csv('merged_data.csv')\n",
    "num_movies = len(movies)\n",
    "norms = np.loadtxt('norms.csv', delimiter=',')\n",
    "inv_idx = pd.read_csv('inv_idx.csv')\n",
    "inv_idx.columns = ['word','docs','counts']\n",
    "z = tuple(zip(inv_idx['word'],inv_idx['docs']))\n",
    "idf = {a: math.log2(num_movies/(1+len(b))) for (a,b) in z if len(b)>=20 and len(b)/num_movies<=0.8}\n",
    "word_to_index = {word:i for i, word in enumerate(inv_idx['word'])}\n",
    "docs = [d.strip('[]').split(', ') for d in inv_idx['docs']]\n",
    "inv_idx['docs'] = docs\n",
    "counts = [c.strip('[]').split(', ') for c in inv_idx['counts']]\n",
    "inv_idx['counts'] = counts"
   ]
  },
  {
   "cell_type": "code",
   "execution_count": 7,
   "metadata": {},
   "outputs": [],
   "source": [
    "def find_music(artist, song=''):\n",
    "    if song != '':\n",
    "        result = genius.search_song(song, artist)\n",
    "    else:\n",
    "        result = genius.search_artist(artist, max_songs=3)\n",
    "    return result\n",
    "\n",
    "def find_movie(movie):\n",
    "    title = \"\"\n",
    "    plot = \"\"\n",
    "    query = \"http://www.omdbapi.com/?apikey=\" + omdb_TOKEN + \"&t=\" + movie\n",
    "    params = {\"r\": \"json\", \"plot\": \"full\"}\n",
    "    result = requests.get(query, params)\n",
    "    if response(result.text):\n",
    "        json = cleanjson(result.text)\n",
    "        plot = json[1]\n",
    "        title = json[0]\n",
    "        review_imdb = json[2]\n",
    "        review_rotten = json[3]\n",
    "    else:\n",
    "        return \"ERROR\"\n",
    "    return (title, plot, review_imdb, review_rotten)\n",
    "\n",
    "def cleanjson(result):\n",
    "    title = result[result.find(\"Title\")+8:result.find(\"Year\")-3]\n",
    "    plot = result[result.find(\"Plot\")+7:result.find(\"Language\")-3]\n",
    "    try:\n",
    "        review_imdb = float(result[result.find(\n",
    "        '\"Internet Movie Database\",\"Value\":\"')+35:result.find('Source\":\"Rotten Tomatoes\"')-8])\n",
    "    except:\n",
    "        review_imdb = -1\n",
    "    try:\n",
    "        review_rotten = float(result[result.find(\n",
    "        'Source\":\"Rotten Tomatoes\",\"Value\":')+35: result.find('},{\"Source\":\"Metacritic\"')-2])\n",
    "    except:\n",
    "        review_rotten = -1\n",
    "    return [title, plot, review_imdb, review_rotten]\n",
    "\n",
    "def response(result):\n",
    "    text = result[result.find('\"Response\":')+12:]\n",
    "    return text.find('True') > -1\n"
   ]
  },
  {
   "cell_type": "code",
   "execution_count": 8,
   "metadata": {},
   "outputs": [],
   "source": [
    "def index_search(query):\n",
    "    scores = np.zeros(len(norms))\n",
    "    #docs = [i for i in range(len(norms))]\n",
    "    q = query.lower()\n",
    "    q_tokens = tokenizer(q)\n",
    "    q_norm_sq = 0\n",
    "    for t in set(q_tokens):\n",
    "        if t in idf:\n",
    "            ind = word_to_index[t]\n",
    "            q_norm_sq += (q_tokens.count(t)*idf[t])**2\n",
    "            for (doc,cnt) in tuple(zip(inv_idx['docs'][ind],inv_idx['counts'][ind])):\n",
    "                #print(doc,cnt)\n",
    "                doc = int(doc)\n",
    "                cnt = int(cnt)\n",
    "                scores[doc] += (q_tokens.count(t)*cnt*idf[t]**2)/norms[doc]\n",
    "    q_norm = math.sqrt(q_norm_sq)\n",
    "    new_scores = [score/q_norm for score in scores]\n",
    "    #pos = [x for x in movies['pos']]\n",
    "    #neg = [x for x in movies['neg']]\n",
    "    #result = sorted(tuple(zip(new_scores,docs)),reverse=True)\n",
    "    result = new_scores\n",
    "    return result"
   ]
  },
  {
   "cell_type": "code",
   "execution_count": 9,
   "metadata": {},
   "outputs": [],
   "source": [
    "def get_sent_dist(p1, n1):\n",
    "    dist = []\n",
    "    for p2,n2 in tuple(zip(movies['pos'], movies['neg'])):\n",
    "        dist.append(math.sqrt((p2 - p1)**2 + (n2 - n1)**2))\n",
    "    return dist"
   ]
  },
  {
   "cell_type": "code",
   "execution_count": 43,
   "metadata": {},
   "outputs": [],
   "source": [
    "dists = get_sent_dist(pos,neg)"
   ]
  },
  {
   "cell_type": "code",
   "execution_count": 44,
   "metadata": {},
   "outputs": [
    {
     "data": {
      "text/plain": [
       "0.0850561106504346"
      ]
     },
     "execution_count": 44,
     "metadata": {},
     "output_type": "execute_result"
    }
   ],
   "source": [
    "sum(dists)/len(dists)"
   ]
  },
  {
   "cell_type": "code",
   "execution_count": 53,
   "metadata": {},
   "outputs": [],
   "source": [
    "def get_10(movie,dists,cosims):\n",
    "    docs = [i for i in range(len(norms))]\n",
    "    scores = [10*float(c) - 5*float(d) for c,d in zip(cosims,dists)]\n",
    "    results = sorted(tuple(zip(scores,docs)),reverse=True)\n",
    "    ten = []\n",
    "    i = 1\n",
    "    for (score,ind) in results[:10]:\n",
    "        if movies['Title'][ind] != movie:\n",
    "            ten.append(str(i)+'.')\n",
    "            ten.append(movies['Title'][ind])\n",
    "            ten.append('Score: '+str(score))\n",
    "            i+=1\n",
    "    return ten"
   ]
  },
  {
   "cell_type": "code",
   "execution_count": 54,
   "metadata": {},
   "outputs": [],
   "source": [
    "movie_result = find_movie('Memento')"
   ]
  },
  {
   "cell_type": "code",
   "execution_count": 55,
   "metadata": {},
   "outputs": [],
   "source": [
    "cosims = index_search(movie_result[1])"
   ]
  },
  {
   "cell_type": "code",
   "execution_count": 56,
   "metadata": {},
   "outputs": [
    {
     "data": {
      "text/plain": [
       "0.10714571971754802"
      ]
     },
     "execution_count": 56,
     "metadata": {},
     "output_type": "execute_result"
    }
   ],
   "source": [
    "max(cosims)"
   ]
  },
  {
   "cell_type": "code",
   "execution_count": 57,
   "metadata": {},
   "outputs": [
    {
     "data": {
      "text/plain": [
       "['1.',\n",
       " 'Adulterous Wife: Dizzy',\n",
       " 'Score: 0.7238764082659017',\n",
       " '2.',\n",
       " 'Spring Fever',\n",
       " 'Score: 0.6902394545606649',\n",
       " '3.',\n",
       " 'Desperately Seeking Brandi',\n",
       " 'Score: 0.6808735904564845',\n",
       " '4.',\n",
       " 'Duel in the Jungle',\n",
       " 'Score: 0.6664263341539075',\n",
       " '5.',\n",
       " 'Dunia Baru: The Movie',\n",
       " 'Score: 0.6340529737971887',\n",
       " '6.',\n",
       " 'Alias Jesse James',\n",
       " 'Score: 0.5293770888334492',\n",
       " '7.',\n",
       " 'Frauds',\n",
       " 'Score: 0.5034846207761867',\n",
       " '8.',\n",
       " 'Speedtrap',\n",
       " 'Score: 0.472347576417701',\n",
       " '9.',\n",
       " 'Komaram Bheem',\n",
       " 'Score: 0.4677012323835123',\n",
       " '10.',\n",
       " \"Mother Krause's Journey to Happiness\",\n",
       " 'Score: 0.4454675881395035']"
      ]
     },
     "execution_count": 57,
     "metadata": {},
     "output_type": "execute_result"
    }
   ],
   "source": [
    "get_10('Memento',dists,cosims)"
   ]
  },
  {
   "cell_type": "code",
   "execution_count": 58,
   "metadata": {},
   "outputs": [
    {
     "data": {
      "text/plain": [
       "'R'"
      ]
     },
     "execution_count": 58,
     "metadata": {},
     "output_type": "execute_result"
    }
   ],
   "source": [
    "find_movie('Adulterous Wife: Dizzy')[1]"
   ]
  },
  {
   "cell_type": "code",
   "execution_count": null,
   "metadata": {},
   "outputs": [],
   "source": []
  },
  {
   "cell_type": "code",
   "execution_count": null,
   "metadata": {},
   "outputs": [],
   "source": []
  },
  {
   "cell_type": "code",
   "execution_count": null,
   "metadata": {},
   "outputs": [],
   "source": []
  },
  {
   "cell_type": "code",
   "execution_count": 35,
   "metadata": {},
   "outputs": [],
   "source": [
    "import re\n",
    "import csv\n",
    "import math\n",
    "import json\n",
    "import numpy as np\n",
    "import pandas as pd\n",
    "import pickle\n",
    "import requests\n",
    "from sklearn.feature_extraction.text import TfidfVectorizer\n",
    "from sklearn.metrics.pairwise import cosine_similarity"
   ]
  },
  {
   "cell_type": "code",
   "execution_count": 36,
   "metadata": {},
   "outputs": [],
   "source": [
    "import lyricsgenius\n",
    "genius_TOKEN = 'sD0C3epnJdfOQQK4eIC45dHl-Qv7DipToGpuj1n4WeuG5_LDP1HKn31w5Cn1lOux'\n",
    "genius = lyricsgenius.Genius(genius_TOKEN)\n",
    "genius.verbose = False\n",
    "genius.remove_section_headers = True"
   ]
  },
  {
   "cell_type": "code",
   "execution_count": 37,
   "metadata": {},
   "outputs": [],
   "source": [
    "movies = pd.read_csv('merged_data.csv')"
   ]
  },
  {
   "cell_type": "code",
   "execution_count": 38,
   "metadata": {},
   "outputs": [],
   "source": [
    "def listify(df):\n",
    "    genres = []\n",
    "    languages = []\n",
    "    countries = []\n",
    "    for x,y,z in zip(df['Genres'],df['Languages'],df['Countries']):\n",
    "        g = re.findall(': \\\"(.*?)\\\"', x)\n",
    "        l = re.findall(': \\\"(.*?)\\\"', y)\n",
    "        c = re.findall(': \\\"(.*?)\\\"', z)\n",
    "        genres.append(g)\n",
    "        languages.append(l)\n",
    "        countries.append(c)\n",
    "    df['Genres'] = genres\n",
    "    df['Languages'] = languages\n",
    "    df['Countries'] = countries\n",
    "    return df"
   ]
  },
  {
   "cell_type": "code",
   "execution_count": 39,
   "metadata": {},
   "outputs": [],
   "source": [
    "#movies = listify(movies)"
   ]
  },
  {
   "cell_type": "code",
   "execution_count": 55,
   "metadata": {},
   "outputs": [],
   "source": [
    "'''years = []\n",
    "for x in movies['ReleaseDate']:\n",
    "    x = str(x)[:4]\n",
    "    if x != 'nan':\n",
    "        years.append(int(x))\n",
    "    else:\n",
    "        years.append(3000)\n",
    "movies['ReleaseDate'] = years'''"
   ]
  },
  {
   "cell_type": "code",
   "execution_count": 44,
   "metadata": {},
   "outputs": [],
   "source": [
    "#movies = movies[movies['ReleaseDate']>=1960]  "
   ]
  },
  {
   "cell_type": "code",
   "execution_count": 40,
   "metadata": {},
   "outputs": [],
   "source": [
    "vectorizer = TfidfVectorizer(max_features=50000, max_df=0.8, min_df=20, norm='l2')\n",
    "tokenizer = vectorizer.build_tokenizer()"
   ]
  },
  {
   "cell_type": "code",
   "execution_count": 41,
   "metadata": {},
   "outputs": [],
   "source": [
    "movies['toks'] = [tokenizer(summary) for summary in movies['Summary']]"
   ]
  },
  {
   "cell_type": "code",
   "execution_count": 56,
   "metadata": {},
   "outputs": [],
   "source": [
    "is_english = ['English Language' in m for m in movies['Languages']]\n",
    "movies = movies[is_english]"
   ]
  },
  {
   "cell_type": "code",
   "execution_count": 58,
   "metadata": {},
   "outputs": [],
   "source": [
    "movies = movies.reset_index()\n",
    "movies = movies.drop(['index'], axis=1)"
   ]
  },
  {
   "cell_type": "code",
   "execution_count": 59,
   "metadata": {},
   "outputs": [
    {
     "data": {
      "text/html": [
       "<div>\n",
       "<style scoped>\n",
       "    .dataframe tbody tr th:only-of-type {\n",
       "        vertical-align: middle;\n",
       "    }\n",
       "\n",
       "    .dataframe tbody tr th {\n",
       "        vertical-align: top;\n",
       "    }\n",
       "\n",
       "    .dataframe thead th {\n",
       "        text-align: right;\n",
       "    }\n",
       "</style>\n",
       "<table border=\"1\" class=\"dataframe\">\n",
       "  <thead>\n",
       "    <tr style=\"text-align: right;\">\n",
       "      <th></th>\n",
       "      <th>WikiID</th>\n",
       "      <th>Title</th>\n",
       "      <th>ReleaseDate</th>\n",
       "      <th>Runtime</th>\n",
       "      <th>Languages</th>\n",
       "      <th>Countries</th>\n",
       "      <th>Genres</th>\n",
       "      <th>Summary</th>\n",
       "      <th>compound</th>\n",
       "      <th>pos</th>\n",
       "      <th>neg</th>\n",
       "      <th>neu</th>\n",
       "      <th>toks</th>\n",
       "    </tr>\n",
       "  </thead>\n",
       "  <tbody>\n",
       "    <tr>\n",
       "      <th>0</th>\n",
       "      <td>975900</td>\n",
       "      <td>Ghosts of Mars</td>\n",
       "      <td>2001</td>\n",
       "      <td>98.0</td>\n",
       "      <td>[English Language]</td>\n",
       "      <td>[United States of America]</td>\n",
       "      <td>[Thriller, Science Fiction, Horror, Adventure,...</td>\n",
       "      <td>Set in the second half of the 22nd century, th...</td>\n",
       "      <td>-0.9913</td>\n",
       "      <td>0.065</td>\n",
       "      <td>0.150</td>\n",
       "      <td>0.786</td>\n",
       "      <td>[Set, in, the, second, half, of, the, 22nd, ce...</td>\n",
       "    </tr>\n",
       "    <tr>\n",
       "      <th>1</th>\n",
       "      <td>9363483</td>\n",
       "      <td>White Of The Eye</td>\n",
       "      <td>1987</td>\n",
       "      <td>110.0</td>\n",
       "      <td>[English Language]</td>\n",
       "      <td>[United Kingdom]</td>\n",
       "      <td>[Thriller, Erotic thriller, Psychological thri...</td>\n",
       "      <td>A series of murders of rich young women throug...</td>\n",
       "      <td>-0.9985</td>\n",
       "      <td>0.078</td>\n",
       "      <td>0.198</td>\n",
       "      <td>0.724</td>\n",
       "      <td>[series, of, murders, of, rich, young, women, ...</td>\n",
       "    </tr>\n",
       "    <tr>\n",
       "      <th>2</th>\n",
       "      <td>18998739</td>\n",
       "      <td>The Sorcerer's Apprentice</td>\n",
       "      <td>2002</td>\n",
       "      <td>86.0</td>\n",
       "      <td>[English Language]</td>\n",
       "      <td>[South Africa]</td>\n",
       "      <td>[Family Film, Fantasy, Adventure, World cinema]</td>\n",
       "      <td>Every hundred years, the evil Morgana  returns...</td>\n",
       "      <td>-0.8885</td>\n",
       "      <td>0.092</td>\n",
       "      <td>0.131</td>\n",
       "      <td>0.776</td>\n",
       "      <td>[Every, hundred, years, the, evil, Morgana, re...</td>\n",
       "    </tr>\n",
       "    <tr>\n",
       "      <th>3</th>\n",
       "      <td>6631279</td>\n",
       "      <td>Little city</td>\n",
       "      <td>1997</td>\n",
       "      <td>93.0</td>\n",
       "      <td>[English Language]</td>\n",
       "      <td>[United States of America]</td>\n",
       "      <td>[Romantic comedy, Ensemble Film, Comedy-drama,...</td>\n",
       "      <td>Adam, a San Francisco-based artist who works a...</td>\n",
       "      <td>-0.7097</td>\n",
       "      <td>0.089</td>\n",
       "      <td>0.108</td>\n",
       "      <td>0.804</td>\n",
       "      <td>[Adam, San, Francisco, based, artist, who, wor...</td>\n",
       "    </tr>\n",
       "    <tr>\n",
       "      <th>4</th>\n",
       "      <td>171005</td>\n",
       "      <td>Henry V</td>\n",
       "      <td>1989</td>\n",
       "      <td>137.0</td>\n",
       "      <td>[English Language]</td>\n",
       "      <td>[United Kingdom]</td>\n",
       "      <td>[Costume drama, War film, Epic, Period piece, ...</td>\n",
       "      <td>{{Plot|dateAct 1Act 2Act 3Act 4Act 5 Finally n...</td>\n",
       "      <td>0.3182</td>\n",
       "      <td>0.065</td>\n",
       "      <td>0.032</td>\n",
       "      <td>0.903</td>\n",
       "      <td>[Plot, dateAct, 1Act, 2Act, 3Act, 4Act, Finall...</td>\n",
       "    </tr>\n",
       "  </tbody>\n",
       "</table>\n",
       "</div>"
      ],
      "text/plain": [
       "     WikiID                      Title  ReleaseDate  Runtime  \\\n",
       "0    975900             Ghosts of Mars         2001     98.0   \n",
       "1   9363483           White Of The Eye         1987    110.0   \n",
       "2  18998739  The Sorcerer's Apprentice         2002     86.0   \n",
       "3   6631279                Little city         1997     93.0   \n",
       "4    171005                    Henry V         1989    137.0   \n",
       "\n",
       "            Languages                   Countries  \\\n",
       "0  [English Language]  [United States of America]   \n",
       "1  [English Language]            [United Kingdom]   \n",
       "2  [English Language]              [South Africa]   \n",
       "3  [English Language]  [United States of America]   \n",
       "4  [English Language]            [United Kingdom]   \n",
       "\n",
       "                                              Genres  \\\n",
       "0  [Thriller, Science Fiction, Horror, Adventure,...   \n",
       "1  [Thriller, Erotic thriller, Psychological thri...   \n",
       "2    [Family Film, Fantasy, Adventure, World cinema]   \n",
       "3  [Romantic comedy, Ensemble Film, Comedy-drama,...   \n",
       "4  [Costume drama, War film, Epic, Period piece, ...   \n",
       "\n",
       "                                             Summary  compound    pos    neg  \\\n",
       "0  Set in the second half of the 22nd century, th...   -0.9913  0.065  0.150   \n",
       "1  A series of murders of rich young women throug...   -0.9985  0.078  0.198   \n",
       "2  Every hundred years, the evil Morgana  returns...   -0.8885  0.092  0.131   \n",
       "3  Adam, a San Francisco-based artist who works a...   -0.7097  0.089  0.108   \n",
       "4  {{Plot|dateAct 1Act 2Act 3Act 4Act 5 Finally n...    0.3182  0.065  0.032   \n",
       "\n",
       "     neu                                               toks  \n",
       "0  0.786  [Set, in, the, second, half, of, the, 22nd, ce...  \n",
       "1  0.724  [series, of, murders, of, rich, young, women, ...  \n",
       "2  0.776  [Every, hundred, years, the, evil, Morgana, re...  \n",
       "3  0.804  [Adam, San, Francisco, based, artist, who, wor...  \n",
       "4  0.903  [Plot, dateAct, 1Act, 2Act, 3Act, 4Act, Finall...  "
      ]
     },
     "execution_count": 59,
     "metadata": {},
     "output_type": "execute_result"
    }
   ],
   "source": [
    "movies.head()"
   ]
  },
  {
   "cell_type": "code",
   "execution_count": 60,
   "metadata": {},
   "outputs": [],
   "source": [
    "from vaderSentiment.vaderSentiment import SentimentIntensityAnalyzer\n",
    "analyzer = SentimentIntensityAnalyzer()"
   ]
  },
  {
   "cell_type": "code",
   "execution_count": 61,
   "metadata": {},
   "outputs": [],
   "source": [
    "s = genius.search_song('XO','eden')\n",
    "x = analyzer.polarity_scores(s.lyrics)\n",
    "x1 = x['pos']\n",
    "y1 = x['neg']"
   ]
  },
  {
   "cell_type": "code",
   "execution_count": 62,
   "metadata": {},
   "outputs": [],
   "source": [
    "dist = []\n",
    "for x2,y2 in tuple(zip(movies['pos'], movies['neg'])):\n",
    "    dist.append(math.sqrt((x1 - x2)**2 + (y1 - y2)**2))"
   ]
  },
  {
   "cell_type": "code",
   "execution_count": 63,
   "metadata": {},
   "outputs": [
    {
     "data": {
      "text/plain": [
       "24775"
      ]
     },
     "execution_count": 63,
     "metadata": {},
     "output_type": "execute_result"
    }
   ],
   "source": [
    "num_movies = len(movies)\n",
    "num_movies"
   ]
  },
  {
   "cell_type": "code",
   "execution_count": 65,
   "metadata": {},
   "outputs": [],
   "source": [
    "def build_inverted_index(movies):\n",
    "    word_set = []\n",
    "    for t in movies['toks']:\n",
    "        word_set+=t\n",
    "    word_set = set(word_set)\n",
    "    word_dict = {w: [] for w in word_set}\n",
    "    for i in range(len(movies)):\n",
    "        for w in set(movies['toks'][i]):\n",
    "            if w in movies['toks'][i]:\n",
    "                word_dict[w].append((i,movies['toks'][i].count(w)))\n",
    "    return word_dict"
   ]
  },
  {
   "cell_type": "code",
   "execution_count": 66,
   "metadata": {},
   "outputs": [],
   "source": [
    "#took long time to run, only needs to be done once\n",
    "#idx = build_inverted_index(movies)"
   ]
  },
  {
   "cell_type": "code",
   "execution_count": 99,
   "metadata": {},
   "outputs": [],
   "source": [
    "norms = np.loadtxt('norms.csv', delimiter=',')"
   ]
  },
  {
   "cell_type": "code",
   "execution_count": 114,
   "metadata": {},
   "outputs": [],
   "source": [
    "inv_idx = pd.read_csv('inv_idx.csv')"
   ]
  },
  {
   "cell_type": "code",
   "execution_count": 115,
   "metadata": {},
   "outputs": [
    {
     "data": {
      "text/html": [
       "<div>\n",
       "<style scoped>\n",
       "    .dataframe tbody tr th:only-of-type {\n",
       "        vertical-align: middle;\n",
       "    }\n",
       "\n",
       "    .dataframe tbody tr th {\n",
       "        vertical-align: top;\n",
       "    }\n",
       "\n",
       "    .dataframe thead th {\n",
       "        text-align: right;\n",
       "    }\n",
       "</style>\n",
       "<table border=\"1\" class=\"dataframe\">\n",
       "  <thead>\n",
       "    <tr style=\"text-align: right;\">\n",
       "      <th></th>\n",
       "      <th>word</th>\n",
       "      <th>docs</th>\n",
       "      <th>counts</th>\n",
       "    </tr>\n",
       "  </thead>\n",
       "  <tbody>\n",
       "    <tr>\n",
       "      <th>0</th>\n",
       "      <td>Bacolod</td>\n",
       "      <td>[22137]</td>\n",
       "      <td>[1]</td>\n",
       "    </tr>\n",
       "    <tr>\n",
       "      <th>1</th>\n",
       "      <td>cities</td>\n",
       "      <td>[363, 711, 843, 1029, 1037, 1348, 1532, 1765, ...</td>\n",
       "      <td>[2, 1, 1, 1, 1, 1, 1, 1, 1, 1, 1, 1, 1, 1, 1, ...</td>\n",
       "    </tr>\n",
       "    <tr>\n",
       "      <th>2</th>\n",
       "      <td>sympathising</td>\n",
       "      <td>[11878]</td>\n",
       "      <td>[1]</td>\n",
       "    </tr>\n",
       "    <tr>\n",
       "      <th>3</th>\n",
       "      <td>Obliged</td>\n",
       "      <td>[4784, 12949, 13936, 15556]</td>\n",
       "      <td>[1, 1, 1, 1]</td>\n",
       "    </tr>\n",
       "    <tr>\n",
       "      <th>4</th>\n",
       "      <td>Nyla</td>\n",
       "      <td>[4234, 15129, 25097, 39512]</td>\n",
       "      <td>[28, 1, 2, 2]</td>\n",
       "    </tr>\n",
       "  </tbody>\n",
       "</table>\n",
       "</div>"
      ],
      "text/plain": [
       "           word                                               docs  \\\n",
       "0       Bacolod                                            [22137]   \n",
       "1        cities  [363, 711, 843, 1029, 1037, 1348, 1532, 1765, ...   \n",
       "2  sympathising                                            [11878]   \n",
       "3       Obliged                        [4784, 12949, 13936, 15556]   \n",
       "4          Nyla                        [4234, 15129, 25097, 39512]   \n",
       "\n",
       "                                              counts  \n",
       "0                                                [1]  \n",
       "1  [2, 1, 1, 1, 1, 1, 1, 1, 1, 1, 1, 1, 1, 1, 1, ...  \n",
       "2                                                [1]  \n",
       "3                                       [1, 1, 1, 1]  \n",
       "4                                      [28, 1, 2, 2]  "
      ]
     },
     "execution_count": 115,
     "metadata": {},
     "output_type": "execute_result"
    }
   ],
   "source": [
    "inv_idx.columns = ['word','docs','counts']\n",
    "inv_idx.head()"
   ]
  },
  {
   "cell_type": "code",
   "execution_count": 116,
   "metadata": {},
   "outputs": [],
   "source": [
    "docs = [d.strip('[]').split(', ') for d in inv_idx['docs']]\n",
    "inv_idx['docs'] = docs"
   ]
  },
  {
   "cell_type": "code",
   "execution_count": 117,
   "metadata": {},
   "outputs": [],
   "source": [
    "counts = [c.strip('[]').split(', ') for c in inv_idx['counts']]\n",
    "inv_idx['counts'] = counts"
   ]
  },
  {
   "cell_type": "code",
   "execution_count": 119,
   "metadata": {},
   "outputs": [
    {
     "data": {
      "text/plain": [
       "str"
      ]
     },
     "execution_count": 119,
     "metadata": {},
     "output_type": "execute_result"
    }
   ],
   "source": [
    "type(inv_idx['docs'][72726])"
   ]
  },
  {
   "cell_type": "code",
   "execution_count": 96,
   "metadata": {},
   "outputs": [],
   "source": [
    "word_to_index = {word:i for i, word in enumerate(inv_idx['word'])}"
   ]
  },
  {
   "cell_type": "code",
   "execution_count": 94,
   "metadata": {},
   "outputs": [],
   "source": [
    "z = tuple(zip(inv_idx['word'],inv_idx['docs']))\n",
    "idf = {a: math.log2(num_movies/(1+len(b))) for (a,b) in z if len(b)>=20 and len(b)/num_movies<=0.8}"
   ]
  },
  {
   "cell_type": "code",
   "execution_count": 120,
   "metadata": {},
   "outputs": [],
   "source": [
    "def compute_doc_norms(index, idf, n_docs):\n",
    "    norms_sq = np.zeros(n_docs)\n",
    "    for t in idf:\n",
    "        for (doc,cnt) in index[t]:\n",
    "            norms_sq[doc] += (cnt*idf[t])**2\n",
    "    return np.sqrt(norms_sq)"
   ]
  },
  {
   "cell_type": "code",
   "execution_count": 121,
   "metadata": {},
   "outputs": [],
   "source": [
    "#norms = compute_doc_norms(inv_idx, idf, num_movies)\n",
    "#np.savetxt('norms.csv', norms, delimiter=',')"
   ]
  },
  {
   "cell_type": "code",
   "execution_count": 122,
   "metadata": {},
   "outputs": [],
   "source": [
    "def cleanjson(result):\n",
    "    title = result[result.find(\"Title\")+8:result.find(\"Year\")-3]\n",
    "    plot = result[result.find(\"Plot\")+7:result.find(\"Language\")-3]\n",
    "    try:\n",
    "        review_imdb = float(result[result.find(\n",
    "        '\"Internet Movie Database\",\"Value\":\"')+35:result.find('Source\":\"Rotten Tomatoes\"')-8])\n",
    "    except:\n",
    "        review_imdb = -1\n",
    "    try:\n",
    "        review_rotten = float(result[result.find(\n",
    "        'Source\":\"Rotten Tomatoes\",\"Value\":')+35: result.find('},{\"Source\":\"Metacritic\"')-2])\n",
    "    except:\n",
    "        review_rotten = -1\n",
    "    return [title, plot, review_imdb, review_rotten]\n",
    "\n",
    "def response(result):\n",
    "    text = result[result.find('\"Response\":' )+12:]\n",
    "    return text.find('True') >-1"
   ]
  },
  {
   "cell_type": "code",
   "execution_count": 123,
   "metadata": {},
   "outputs": [],
   "source": [
    "omdb_TOKEN = 'ce887dbd'\n",
    "def find_movie(movie):\n",
    "    title = \"\"\n",
    "    plot = \"\"\n",
    "    query = \"http://www.omdbapi.com/?apikey=\" + omdb_TOKEN + \"&t=\" + movie\n",
    "    params = {\"r\": \"json\", \"plot\": \"full\"}\n",
    "    result = requests.get(query, params)\n",
    "    if response(result.text):\n",
    "        json = cleanjson(result.text)\n",
    "        plot = json[1]\n",
    "        title = json[0]\n",
    "        review_imdb = json[2]\n",
    "        review_rotten = json[3]\n",
    "    else:\n",
    "        return \"ERROR\"\n",
    "    return (title, plot, review_imdb, review_rotten)"
   ]
  },
  {
   "cell_type": "code",
   "execution_count": 124,
   "metadata": {},
   "outputs": [],
   "source": [
    "def index_search(query):\n",
    "    scores = np.zeros(len(norms))\n",
    "    #docs = [i for i in range(len(norms))]\n",
    "    q = query.lower()\n",
    "    q_tokens = tokenizer(q)\n",
    "    q_norm_sq = 0\n",
    "    for t in set(q_tokens):\n",
    "        if t in idf:\n",
    "            ind = word_to_index[t]\n",
    "            q_norm_sq += (q_tokens.count(t)*idf[t])**2\n",
    "            for (doc,cnt) in tuple(zip(inv_idx['docs'][ind],inv_idx['counts'][ind])):\n",
    "                #print(doc,cnt)\n",
    "                doc = int(doc)\n",
    "                cnt = int(cnt)\n",
    "                scores[doc] += (q_tokens.count(t)*cnt*idf[t]**2)/norms[doc]\n",
    "    q_norm = math.sqrt(q_norm_sq)\n",
    "    new_scores = [score/q_norm for score in scores]\n",
    "    #pos = [x for x in movies['pos']]\n",
    "    #neg = [x for x in movies['neg']]\n",
    "    #result = sorted(tuple(zip(new_scores,docs)),reverse=True)\n",
    "    result = new_scores\n",
    "    return result"
   ]
  },
  {
   "cell_type": "code",
   "execution_count": 125,
   "metadata": {},
   "outputs": [],
   "source": [
    "def get_sent_dist(p1, n1):\n",
    "    dist = []\n",
    "    for p2,n2 in tuple(zip(movies['pos'], movies['neg'])):\n",
    "        dist.append(math.sqrt((p2 - p1)**2 + (n2 - n1)**2))\n",
    "    return dist\n",
    "\n",
    "def get_10(movie,dists,cosims):\n",
    "    docs = [i for i in range(len(norms))]\n",
    "    scores = [1*float(c) - 100*float(d) for c,d in zip(dists,cosims)]\n",
    "    results = sorted(tuple(zip(scores,docs)),reverse=True)\n",
    "    ten = []\n",
    "    i = 1\n",
    "    for (score,ind) in results[:10]:\n",
    "        if movies['Title'][ind] != movie:\n",
    "            ten.append(str(i)+'.')\n",
    "            ten.append(movies['Title'][ind])\n",
    "            ten.append('Score: '+str(score))\n",
    "            i+=1\n",
    "    return ten"
   ]
  },
  {
   "cell_type": "code",
   "execution_count": 126,
   "metadata": {},
   "outputs": [
    {
     "ename": "ValueError",
     "evalue": "invalid literal for int() with base 10: '['",
     "output_type": "error",
     "traceback": [
      "\u001b[1;31m---------------------------------------------------------------------------\u001b[0m",
      "\u001b[1;31mValueError\u001b[0m                                Traceback (most recent call last)",
      "\u001b[1;32m<ipython-input-126-e9d5657819f3>\u001b[0m in \u001b[0;36m<module>\u001b[1;34m()\u001b[0m\n\u001b[1;32m----> 1\u001b[1;33m \u001b[0mresults\u001b[0m \u001b[1;33m=\u001b[0m \u001b[0mindex_search\u001b[0m\u001b[1;33m(\u001b[0m\u001b[1;34m'Memento'\u001b[0m\u001b[1;33m)\u001b[0m\u001b[1;33m\u001b[0m\u001b[1;33m\u001b[0m\u001b[0m\n\u001b[0m",
      "\u001b[1;32m<ipython-input-124-125bcf02944d>\u001b[0m in \u001b[0;36mindex_search\u001b[1;34m(query)\u001b[0m\n\u001b[0;32m     11\u001b[0m             \u001b[1;32mfor\u001b[0m \u001b[1;33m(\u001b[0m\u001b[0mdoc\u001b[0m\u001b[1;33m,\u001b[0m\u001b[0mcnt\u001b[0m\u001b[1;33m)\u001b[0m \u001b[1;32min\u001b[0m \u001b[0mtuple\u001b[0m\u001b[1;33m(\u001b[0m\u001b[0mzip\u001b[0m\u001b[1;33m(\u001b[0m\u001b[0minv_idx\u001b[0m\u001b[1;33m[\u001b[0m\u001b[1;34m'docs'\u001b[0m\u001b[1;33m]\u001b[0m\u001b[1;33m[\u001b[0m\u001b[0mind\u001b[0m\u001b[1;33m]\u001b[0m\u001b[1;33m,\u001b[0m\u001b[0minv_idx\u001b[0m\u001b[1;33m[\u001b[0m\u001b[1;34m'counts'\u001b[0m\u001b[1;33m]\u001b[0m\u001b[1;33m[\u001b[0m\u001b[0mind\u001b[0m\u001b[1;33m]\u001b[0m\u001b[1;33m)\u001b[0m\u001b[1;33m)\u001b[0m\u001b[1;33m:\u001b[0m\u001b[1;33m\u001b[0m\u001b[1;33m\u001b[0m\u001b[0m\n\u001b[0;32m     12\u001b[0m                 \u001b[1;31m#print(doc,cnt)\u001b[0m\u001b[1;33m\u001b[0m\u001b[1;33m\u001b[0m\u001b[1;33m\u001b[0m\u001b[0m\n\u001b[1;32m---> 13\u001b[1;33m                 \u001b[0mdoc\u001b[0m \u001b[1;33m=\u001b[0m \u001b[0mint\u001b[0m\u001b[1;33m(\u001b[0m\u001b[0mdoc\u001b[0m\u001b[1;33m)\u001b[0m\u001b[1;33m\u001b[0m\u001b[1;33m\u001b[0m\u001b[0m\n\u001b[0m\u001b[0;32m     14\u001b[0m                 \u001b[0mcnt\u001b[0m \u001b[1;33m=\u001b[0m \u001b[0mint\u001b[0m\u001b[1;33m(\u001b[0m\u001b[0mcnt\u001b[0m\u001b[1;33m)\u001b[0m\u001b[1;33m\u001b[0m\u001b[1;33m\u001b[0m\u001b[0m\n\u001b[0;32m     15\u001b[0m                 \u001b[0mscores\u001b[0m\u001b[1;33m[\u001b[0m\u001b[0mdoc\u001b[0m\u001b[1;33m]\u001b[0m \u001b[1;33m+=\u001b[0m \u001b[1;33m(\u001b[0m\u001b[0mq_tokens\u001b[0m\u001b[1;33m.\u001b[0m\u001b[0mcount\u001b[0m\u001b[1;33m(\u001b[0m\u001b[0mt\u001b[0m\u001b[1;33m)\u001b[0m\u001b[1;33m*\u001b[0m\u001b[0mcnt\u001b[0m\u001b[1;33m*\u001b[0m\u001b[0midf\u001b[0m\u001b[1;33m[\u001b[0m\u001b[0mt\u001b[0m\u001b[1;33m]\u001b[0m\u001b[1;33m**\u001b[0m\u001b[1;36m2\u001b[0m\u001b[1;33m)\u001b[0m\u001b[1;33m/\u001b[0m\u001b[0mnorms\u001b[0m\u001b[1;33m[\u001b[0m\u001b[0mdoc\u001b[0m\u001b[1;33m]\u001b[0m\u001b[1;33m\u001b[0m\u001b[1;33m\u001b[0m\u001b[0m\n",
      "\u001b[1;31mValueError\u001b[0m: invalid literal for int() with base 10: '['"
     ]
    }
   ],
   "source": [
    "results = index_search('Memento')"
   ]
  },
  {
   "cell_type": "code",
   "execution_count": 32,
   "metadata": {},
   "outputs": [
    {
     "data": {
      "text/plain": [
       "[(0.16056939582947827, 35155),\n",
       " (0.15718873462135707, 13330),\n",
       " (0.15580892217745576, 37607),\n",
       " (0.1485379138540403, 2487),\n",
       " (0.14042652859711635, 34573),\n",
       " (0.13924014073325508, 17758),\n",
       " (0.13512155658997846, 15566),\n",
       " (0.1330696150046359, 3533),\n",
       " (0.13249725484059963, 41117),\n",
       " (0.12548895093423626, 2898)]"
      ]
     },
     "execution_count": 32,
     "metadata": {},
     "output_type": "execute_result"
    }
   ],
   "source": [
    "results"
   ]
  },
  {
   "cell_type": "code",
   "execution_count": 28,
   "metadata": {},
   "outputs": [],
   "source": [
    "def get_10(movie,results):\n",
    "    ten = []\n",
    "    for sim, ind in results[:10]:\n",
    "        if movies['Title'][ind] != movie:\n",
    "            s = movies['Title'][ind]+' (score: '+str(sim)+')'\n",
    "            ten.append(s)\n",
    "    return ten"
   ]
  },
  {
   "cell_type": "code",
   "execution_count": 29,
   "metadata": {},
   "outputs": [
    {
     "data": {
      "text/plain": [
       "['Frauds (score: 0.16056939582947824)',\n",
       " 'Duel in the Jungle (score: 0.15718873462135707)',\n",
       " 'The Fire Raisers (score: 0.15580892217745576)',\n",
       " 'Cover Up (score: 0.1485379138540403)',\n",
       " \"Killer's Carnival (score: 0.14042652859711635)\",\n",
       " 'Perdido por perdido (score: 0.13924014073325505)',\n",
       " 'The Gentleman from Nowhere (score: 0.1351215565899785)',\n",
       " 'Spring Fever (score: 0.1330696150046359)',\n",
       " 'Adulterous Wife: Dizzy (score: 0.13249725484059963)',\n",
       " 'Zombie Girl: The Movie (score: 0.12548895093423626)']"
      ]
     },
     "execution_count": 29,
     "metadata": {},
     "output_type": "execute_result"
    }
   ],
   "source": [
    "get_10('Memento',results)"
   ]
  },
  {
   "cell_type": "code",
   "execution_count": 1,
   "metadata": {},
   "outputs": [
    {
     "ename": "NameError",
     "evalue": "name 'movies' is not defined",
     "output_type": "error",
     "traceback": [
      "\u001b[1;31m---------------------------------------------------------------------------\u001b[0m",
      "\u001b[1;31mNameError\u001b[0m                                 Traceback (most recent call last)",
      "\u001b[1;32m<ipython-input-1-c67d541c1077>\u001b[0m in \u001b[0;36m<module>\u001b[1;34m()\u001b[0m\n\u001b[1;32m----> 1\u001b[1;33m \u001b[0mmovies\u001b[0m\u001b[1;33m[\u001b[0m\u001b[1;34m'Title'\u001b[0m\u001b[1;33m]\u001b[0m\u001b[1;33m[\u001b[0m\u001b[1;36m35155\u001b[0m\u001b[1;33m]\u001b[0m\u001b[1;33m\u001b[0m\u001b[1;33m\u001b[0m\u001b[0m\n\u001b[0m",
      "\u001b[1;31mNameError\u001b[0m: name 'movies' is not defined"
     ]
    }
   ],
   "source": [
    "movies['Title'][35155]"
   ]
  },
  {
   "cell_type": "code",
   "execution_count": null,
   "metadata": {},
   "outputs": [],
   "source": []
  },
  {
   "cell_type": "code",
   "execution_count": null,
   "metadata": {},
   "outputs": [],
   "source": []
  },
  {
   "cell_type": "code",
   "execution_count": null,
   "metadata": {},
   "outputs": [],
   "source": []
  },
  {
   "cell_type": "code",
   "execution_count": null,
   "metadata": {},
   "outputs": [],
   "source": []
  },
  {
   "cell_type": "code",
   "execution_count": null,
   "metadata": {},
   "outputs": [],
   "source": []
  },
  {
   "cell_type": "code",
   "execution_count": 24,
   "metadata": {},
   "outputs": [],
   "source": [
    "#id_to_index = {wikiid:i for i, wikiid in enumerate(movies['WikiID'])}\n",
    "#title_to_id = {t:i for t, i in zip(movies['Title'], movies['WikiID'])}\n",
    "#id_to_title = {v:k for k,v in title_to_id.items()}\n",
    "#title_to_index = {t:i for i, t in enumerate(movies['Title'])}\n",
    "#index_to_title = {v:k for k,v in title_to_index.items()}\n",
    "#movie_titles = [t for t in movies['Title']]"
   ]
  },
  {
   "cell_type": "code",
   "execution_count": 31,
   "metadata": {},
   "outputs": [],
   "source": [
    "doc_by_vocab = vectorizer.fit_transform([s for s in movies['Summary']]).toarray()"
   ]
  },
  {
   "cell_type": "code",
   "execution_count": 33,
   "metadata": {},
   "outputs": [],
   "source": [
    "def get_summary(movie, data):\n",
    "    wiki_id = title_to_id.get(movie)\n",
    "    ind = id_to_index.get(wiki_id)\n",
    "    summary = data['Summary'][ind]\n",
    "    return summary"
   ]
  },
  {
   "cell_type": "code",
   "execution_count": 44,
   "metadata": {},
   "outputs": [],
   "source": [
    "def get_sim(user_mov, other_mov):\n",
    "    j = doc_by_vocab[title_to_index[other_mov]]\n",
    "    result = find_movie(user_mov)\n",
    "    if result[0] in movie_titles:\n",
    "        i = doc_by_vocab[title_to_index[result[0]]]\n",
    "    else:\n",
    "        i = vectorizer.transform([result[1]]).toarray()[0]\n",
    "    cosim = np.dot(i,j) / (np.linalg.norm(i)*np.linalg.norm(j))\n",
    "    return cosim"
   ]
  }
 ],
 "metadata": {
  "kernelspec": {
   "display_name": "env",
   "language": "python",
   "name": "env"
  },
  "language_info": {
   "codemirror_mode": {
    "name": "ipython",
    "version": 3
   },
   "file_extension": ".py",
   "mimetype": "text/x-python",
   "name": "python",
   "nbconvert_exporter": "python",
   "pygments_lexer": "ipython3",
   "version": "3.7.6"
  }
 },
 "nbformat": 4,
 "nbformat_minor": 2
}
