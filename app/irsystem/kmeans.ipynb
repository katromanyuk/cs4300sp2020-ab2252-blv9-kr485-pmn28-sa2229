{
 "cells": [
  {
   "cell_type": "code",
   "execution_count": 90,
   "metadata": {},
   "outputs": [],
   "source": [
    "import re\n",
    "import numpy as np\n",
    "import pandas as pd\n",
    "import statistics\n",
    "from collections import Counter\n",
    "from sklearn.cluster import KMeans\n",
    "import matplotlib.pyplot as plt"
   ]
  },
  {
   "cell_type": "code",
   "execution_count": 97,
   "metadata": {},
   "outputs": [],
   "source": [
    "df = pd.read_csv('merged_data.csv',encoding='utf-8')\n",
    "#df = df[['Title','Summary','Genres','pos','neg']]"
   ]
  },
  {
   "cell_type": "code",
   "execution_count": 98,
   "metadata": {},
   "outputs": [],
   "source": [
    "genres = []\n",
    "for x in df['Genres']:\n",
    "    g = re.findall(': \\\"(.*?)\\\"', x)\n",
    "    genres.append(g)"
   ]
  },
  {
   "cell_type": "code",
   "execution_count": 99,
   "metadata": {},
   "outputs": [
    {
     "data": {
      "text/html": [
       "<div>\n",
       "<style scoped>\n",
       "    .dataframe tbody tr th:only-of-type {\n",
       "        vertical-align: middle;\n",
       "    }\n",
       "\n",
       "    .dataframe tbody tr th {\n",
       "        vertical-align: top;\n",
       "    }\n",
       "\n",
       "    .dataframe thead th {\n",
       "        text-align: right;\n",
       "    }\n",
       "</style>\n",
       "<table border=\"1\" class=\"dataframe\">\n",
       "  <thead>\n",
       "    <tr style=\"text-align: right;\">\n",
       "      <th></th>\n",
       "      <th>Title</th>\n",
       "      <th>WikiID</th>\n",
       "      <th>Genres</th>\n",
       "      <th>Summary</th>\n",
       "      <th>pos</th>\n",
       "      <th>neg</th>\n",
       "      <th>compound</th>\n",
       "      <th>neu</th>\n",
       "    </tr>\n",
       "  </thead>\n",
       "  <tbody>\n",
       "    <tr>\n",
       "      <th>0</th>\n",
       "      <td>Ghosts of Mars</td>\n",
       "      <td>975900</td>\n",
       "      <td>[Thriller, Science Fiction, Horror, Adventure,...</td>\n",
       "      <td>Set in the second half of the 22nd century, th...</td>\n",
       "      <td>0.065</td>\n",
       "      <td>0.150</td>\n",
       "      <td>-0.9913</td>\n",
       "      <td>0.786</td>\n",
       "    </tr>\n",
       "    <tr>\n",
       "      <th>1</th>\n",
       "      <td>White Of The Eye</td>\n",
       "      <td>9363483</td>\n",
       "      <td>[Thriller, Erotic thriller, Psychological thri...</td>\n",
       "      <td>A series of murders of rich young women throug...</td>\n",
       "      <td>0.078</td>\n",
       "      <td>0.198</td>\n",
       "      <td>-0.9985</td>\n",
       "      <td>0.724</td>\n",
       "    </tr>\n",
       "    <tr>\n",
       "      <th>2</th>\n",
       "      <td>A Woman in Flames</td>\n",
       "      <td>261236</td>\n",
       "      <td>[Drama]</td>\n",
       "      <td>Eva, an upper class housewife, becomes frustra...</td>\n",
       "      <td>0.100</td>\n",
       "      <td>0.065</td>\n",
       "      <td>0.9604</td>\n",
       "      <td>0.835</td>\n",
       "    </tr>\n",
       "    <tr>\n",
       "      <th>3</th>\n",
       "      <td>The Sorcerer's Apprentice</td>\n",
       "      <td>18998739</td>\n",
       "      <td>[Family Film, Fantasy, Adventure, World cinema]</td>\n",
       "      <td>Every hundred years, the evil Morgana  returns...</td>\n",
       "      <td>0.092</td>\n",
       "      <td>0.131</td>\n",
       "      <td>-0.8885</td>\n",
       "      <td>0.776</td>\n",
       "    </tr>\n",
       "    <tr>\n",
       "      <th>4</th>\n",
       "      <td>Little city</td>\n",
       "      <td>6631279</td>\n",
       "      <td>[Romantic comedy, Ensemble Film, Comedy-drama,...</td>\n",
       "      <td>Adam, a San Francisco-based artist who works a...</td>\n",
       "      <td>0.089</td>\n",
       "      <td>0.108</td>\n",
       "      <td>-0.7097</td>\n",
       "      <td>0.804</td>\n",
       "    </tr>\n",
       "  </tbody>\n",
       "</table>\n",
       "</div>"
      ],
      "text/plain": [
       "                       Title    WikiID  \\\n",
       "0             Ghosts of Mars    975900   \n",
       "1           White Of The Eye   9363483   \n",
       "2          A Woman in Flames    261236   \n",
       "3  The Sorcerer's Apprentice  18998739   \n",
       "4                Little city   6631279   \n",
       "\n",
       "                                              Genres  \\\n",
       "0  [Thriller, Science Fiction, Horror, Adventure,...   \n",
       "1  [Thriller, Erotic thriller, Psychological thri...   \n",
       "2                                            [Drama]   \n",
       "3    [Family Film, Fantasy, Adventure, World cinema]   \n",
       "4  [Romantic comedy, Ensemble Film, Comedy-drama,...   \n",
       "\n",
       "                                             Summary    pos    neg  compound  \\\n",
       "0  Set in the second half of the 22nd century, th...  0.065  0.150   -0.9913   \n",
       "1  A series of murders of rich young women throug...  0.078  0.198   -0.9985   \n",
       "2  Eva, an upper class housewife, becomes frustra...  0.100  0.065    0.9604   \n",
       "3  Every hundred years, the evil Morgana  returns...  0.092  0.131   -0.8885   \n",
       "4  Adam, a San Francisco-based artist who works a...  0.089  0.108   -0.7097   \n",
       "\n",
       "     neu  \n",
       "0  0.786  \n",
       "1  0.724  \n",
       "2  0.835  \n",
       "3  0.776  \n",
       "4  0.804  "
      ]
     },
     "execution_count": 99,
     "metadata": {},
     "output_type": "execute_result"
    }
   ],
   "source": [
    "df['Genres'] = genres\n",
    "df.head()"
   ]
  },
  {
   "cell_type": "code",
   "execution_count": 100,
   "metadata": {},
   "outputs": [
    {
     "name": "stdout",
     "output_type": "stream",
     "text": [
      "0.57\n",
      "0.597\n"
     ]
    }
   ],
   "source": [
    "print(max(df['pos']))\n",
    "print(max(df['neg']))"
   ]
  },
  {
   "cell_type": "code",
   "execution_count": 101,
   "metadata": {},
   "outputs": [],
   "source": [
    "'''X = df[['pos','neg']]\n",
    "kmeans = KMeans(n_clusters=2, random_state=0).fit(X)\n",
    "kmeans.labels_\n",
    "df['k=2'] = kmeans.labels_\n",
    "\n",
    "X = df[['pos','neg']]\n",
    "kmeans = KMeans(n_clusters=3, random_state=0).fit(X)\n",
    "kmeans.labels_\n",
    "df['k=3'] = kmeans.labels_\n",
    "\n",
    "X = df[['pos','neg']]\n",
    "kmeans = KMeans(n_clusters=4, random_state=0).fit(X)\n",
    "kmeans.labels_\n",
    "df['k=4'] = kmeans.labels_'''\n",
    "\n",
    "X = df[['pos','neg']]\n",
    "kmeans = KMeans(n_clusters=5, random_state=0).fit(X)\n",
    "kmeans.labels_\n",
    "df['k=5'] = kmeans.labels_"
   ]
  },
  {
   "cell_type": "code",
   "execution_count": 102,
   "metadata": {},
   "outputs": [
    {
     "data": {
      "text/html": [
       "<div>\n",
       "<style scoped>\n",
       "    .dataframe tbody tr th:only-of-type {\n",
       "        vertical-align: middle;\n",
       "    }\n",
       "\n",
       "    .dataframe tbody tr th {\n",
       "        vertical-align: top;\n",
       "    }\n",
       "\n",
       "    .dataframe thead th {\n",
       "        text-align: right;\n",
       "    }\n",
       "</style>\n",
       "<table border=\"1\" class=\"dataframe\">\n",
       "  <thead>\n",
       "    <tr style=\"text-align: right;\">\n",
       "      <th></th>\n",
       "      <th>Title</th>\n",
       "      <th>WikiID</th>\n",
       "      <th>Genres</th>\n",
       "      <th>Summary</th>\n",
       "      <th>pos</th>\n",
       "      <th>neg</th>\n",
       "      <th>compound</th>\n",
       "      <th>neu</th>\n",
       "      <th>k=5</th>\n",
       "    </tr>\n",
       "  </thead>\n",
       "  <tbody>\n",
       "    <tr>\n",
       "      <th>0</th>\n",
       "      <td>Ghosts of Mars</td>\n",
       "      <td>975900</td>\n",
       "      <td>[Thriller, Science Fiction, Horror, Adventure,...</td>\n",
       "      <td>Set in the second half of the 22nd century, th...</td>\n",
       "      <td>0.065</td>\n",
       "      <td>0.150</td>\n",
       "      <td>-0.9913</td>\n",
       "      <td>0.786</td>\n",
       "      <td>4</td>\n",
       "    </tr>\n",
       "    <tr>\n",
       "      <th>1</th>\n",
       "      <td>White Of The Eye</td>\n",
       "      <td>9363483</td>\n",
       "      <td>[Thriller, Erotic thriller, Psychological thri...</td>\n",
       "      <td>A series of murders of rich young women throug...</td>\n",
       "      <td>0.078</td>\n",
       "      <td>0.198</td>\n",
       "      <td>-0.9985</td>\n",
       "      <td>0.724</td>\n",
       "      <td>1</td>\n",
       "    </tr>\n",
       "    <tr>\n",
       "      <th>2</th>\n",
       "      <td>A Woman in Flames</td>\n",
       "      <td>261236</td>\n",
       "      <td>[Drama]</td>\n",
       "      <td>Eva, an upper class housewife, becomes frustra...</td>\n",
       "      <td>0.100</td>\n",
       "      <td>0.065</td>\n",
       "      <td>0.9604</td>\n",
       "      <td>0.835</td>\n",
       "      <td>0</td>\n",
       "    </tr>\n",
       "    <tr>\n",
       "      <th>3</th>\n",
       "      <td>The Sorcerer's Apprentice</td>\n",
       "      <td>18998739</td>\n",
       "      <td>[Family Film, Fantasy, Adventure, World cinema]</td>\n",
       "      <td>Every hundred years, the evil Morgana  returns...</td>\n",
       "      <td>0.092</td>\n",
       "      <td>0.131</td>\n",
       "      <td>-0.8885</td>\n",
       "      <td>0.776</td>\n",
       "      <td>2</td>\n",
       "    </tr>\n",
       "    <tr>\n",
       "      <th>4</th>\n",
       "      <td>Little city</td>\n",
       "      <td>6631279</td>\n",
       "      <td>[Romantic comedy, Ensemble Film, Comedy-drama,...</td>\n",
       "      <td>Adam, a San Francisco-based artist who works a...</td>\n",
       "      <td>0.089</td>\n",
       "      <td>0.108</td>\n",
       "      <td>-0.7097</td>\n",
       "      <td>0.804</td>\n",
       "      <td>2</td>\n",
       "    </tr>\n",
       "    <tr>\n",
       "      <th>5</th>\n",
       "      <td>Henry V</td>\n",
       "      <td>171005</td>\n",
       "      <td>[Costume drama, War film, Epic, Period piece, ...</td>\n",
       "      <td>{{Plot|dateAct 1Act 2Act 3Act 4Act 5 Finally n...</td>\n",
       "      <td>0.065</td>\n",
       "      <td>0.032</td>\n",
       "      <td>0.3182</td>\n",
       "      <td>0.903</td>\n",
       "      <td>0</td>\n",
       "    </tr>\n",
       "    <tr>\n",
       "      <th>6</th>\n",
       "      <td>Aaah Belinda</td>\n",
       "      <td>18296435</td>\n",
       "      <td>[Comedy]</td>\n",
       "      <td>Serap, a young actress with a strong, lively p...</td>\n",
       "      <td>0.096</td>\n",
       "      <td>0.168</td>\n",
       "      <td>-0.8074</td>\n",
       "      <td>0.736</td>\n",
       "      <td>2</td>\n",
       "    </tr>\n",
       "    <tr>\n",
       "      <th>7</th>\n",
       "      <td>The Mechanical Monsters</td>\n",
       "      <td>11250635</td>\n",
       "      <td>[Science Fiction, Adventure, Animation, Short ...</td>\n",
       "      <td>The story starts as one of the robots flies i...</td>\n",
       "      <td>0.091</td>\n",
       "      <td>0.075</td>\n",
       "      <td>0.9463</td>\n",
       "      <td>0.834</td>\n",
       "      <td>0</td>\n",
       "    </tr>\n",
       "    <tr>\n",
       "      <th>8</th>\n",
       "      <td>Mary Poppins</td>\n",
       "      <td>77856</td>\n",
       "      <td>[Children's/Family, Musical, Fantasy, Comedy, ...</td>\n",
       "      <td>The film opens with Mary Poppins  perched in a...</td>\n",
       "      <td>0.109</td>\n",
       "      <td>0.082</td>\n",
       "      <td>0.9945</td>\n",
       "      <td>0.809</td>\n",
       "      <td>2</td>\n",
       "    </tr>\n",
       "    <tr>\n",
       "      <th>9</th>\n",
       "      <td>Die Fahne von Kriwoj Rog</td>\n",
       "      <td>32456683</td>\n",
       "      <td>[]</td>\n",
       "      <td>Otto Brosowski, a communist miner, writes to t...</td>\n",
       "      <td>0.101</td>\n",
       "      <td>0.090</td>\n",
       "      <td>0.3612</td>\n",
       "      <td>0.809</td>\n",
       "      <td>2</td>\n",
       "    </tr>\n",
       "  </tbody>\n",
       "</table>\n",
       "</div>"
      ],
      "text/plain": [
       "                       Title    WikiID  \\\n",
       "0             Ghosts of Mars    975900   \n",
       "1           White Of The Eye   9363483   \n",
       "2          A Woman in Flames    261236   \n",
       "3  The Sorcerer's Apprentice  18998739   \n",
       "4                Little city   6631279   \n",
       "5                    Henry V    171005   \n",
       "6               Aaah Belinda  18296435   \n",
       "7    The Mechanical Monsters  11250635   \n",
       "8               Mary Poppins     77856   \n",
       "9   Die Fahne von Kriwoj Rog  32456683   \n",
       "\n",
       "                                              Genres  \\\n",
       "0  [Thriller, Science Fiction, Horror, Adventure,...   \n",
       "1  [Thriller, Erotic thriller, Psychological thri...   \n",
       "2                                            [Drama]   \n",
       "3    [Family Film, Fantasy, Adventure, World cinema]   \n",
       "4  [Romantic comedy, Ensemble Film, Comedy-drama,...   \n",
       "5  [Costume drama, War film, Epic, Period piece, ...   \n",
       "6                                           [Comedy]   \n",
       "7  [Science Fiction, Adventure, Animation, Short ...   \n",
       "8  [Children's/Family, Musical, Fantasy, Comedy, ...   \n",
       "9                                                 []   \n",
       "\n",
       "                                             Summary    pos    neg  compound  \\\n",
       "0  Set in the second half of the 22nd century, th...  0.065  0.150   -0.9913   \n",
       "1  A series of murders of rich young women throug...  0.078  0.198   -0.9985   \n",
       "2  Eva, an upper class housewife, becomes frustra...  0.100  0.065    0.9604   \n",
       "3  Every hundred years, the evil Morgana  returns...  0.092  0.131   -0.8885   \n",
       "4  Adam, a San Francisco-based artist who works a...  0.089  0.108   -0.7097   \n",
       "5  {{Plot|dateAct 1Act 2Act 3Act 4Act 5 Finally n...  0.065  0.032    0.3182   \n",
       "6  Serap, a young actress with a strong, lively p...  0.096  0.168   -0.8074   \n",
       "7   The story starts as one of the robots flies i...  0.091  0.075    0.9463   \n",
       "8  The film opens with Mary Poppins  perched in a...  0.109  0.082    0.9945   \n",
       "9  Otto Brosowski, a communist miner, writes to t...  0.101  0.090    0.3612   \n",
       "\n",
       "     neu  k=5  \n",
       "0  0.786    4  \n",
       "1  0.724    1  \n",
       "2  0.835    0  \n",
       "3  0.776    2  \n",
       "4  0.804    2  \n",
       "5  0.903    0  \n",
       "6  0.736    2  \n",
       "7  0.834    0  \n",
       "8  0.809    2  \n",
       "9  0.809    2  "
      ]
     },
     "execution_count": 102,
     "metadata": {},
     "output_type": "execute_result"
    }
   ],
   "source": [
    "df.head(10)"
   ]
  },
  {
   "cell_type": "code",
   "execution_count": 103,
   "metadata": {},
   "outputs": [],
   "source": [
    "df.to_csv (r'merged_kmeans.csv', index = False, header=True)"
   ]
  },
  {
   "cell_type": "code",
   "execution_count": 9,
   "metadata": {},
   "outputs": [
    {
     "name": "stdout",
     "output_type": "stream",
     "text": [
      "[[0.06711672 0.04812787]\n",
      " [0.06227717 0.21820184]\n",
      " [0.11817479 0.11362219]\n",
      " [0.18591696 0.05011211]\n",
      " [0.05184902 0.12665329]]\n"
     ]
    }
   ],
   "source": [
    "print(kmeans.cluster_centers_)"
   ]
  },
  {
   "cell_type": "code",
   "execution_count": 11,
   "metadata": {},
   "outputs": [
    {
     "name": "stdout",
     "output_type": "stream",
     "text": [
      "0\n"
     ]
    }
   ],
   "source": [
    "x=y = 0\n",
    "print(x)"
   ]
  },
  {
   "cell_type": "code",
   "execution_count": null,
   "metadata": {},
   "outputs": [],
   "source": [
    "df5 = df"
   ]
  },
  {
   "cell_type": "code",
   "execution_count": 11,
   "metadata": {},
   "outputs": [
    {
     "name": "stdout",
     "output_type": "stream",
     "text": [
      "['Thriller', 'Science Fiction', 'Horror', 'Adventure', 'Supernatural', 'Action', 'Space western']\n"
     ]
    },
    {
     "data": {
      "text/plain": [
       "list"
      ]
     },
     "execution_count": 11,
     "metadata": {},
     "output_type": "execute_result"
    }
   ],
   "source": [
    "print(df['Genres'][0])\n",
    "type(df['Genres'][0])"
   ]
  },
  {
   "cell_type": "code",
   "execution_count": 12,
   "metadata": {},
   "outputs": [],
   "source": [
    "total = []\n",
    "for x in df['Genres']:\n",
    "    total = total + x\n",
    "total = dict(Counter(total))"
   ]
  },
  {
   "cell_type": "code",
   "execution_count": 13,
   "metadata": {},
   "outputs": [
    {
     "data": {
      "text/plain": [
       "{'Absurdism': 79,\n",
       " 'Acid western': 7,\n",
       " 'Action': 5868,\n",
       " 'Action Comedy': 142,\n",
       " 'Action Thrillers': 405,\n",
       " 'Action/Adventure': 3553,\n",
       " 'Addiction Drama': 42,\n",
       " 'Adult': 117,\n",
       " 'Adventure': 3248,\n",
       " 'Adventure Comedy': 123,\n",
       " 'Airplanes and airports': 53,\n",
       " 'Albino bias': 14,\n",
       " 'Alien Film': 97,\n",
       " 'Alien invasion': 4,\n",
       " 'Americana': 91,\n",
       " 'Animal Picture': 141,\n",
       " 'Animals': 15,\n",
       " 'Animated Musical': 43,\n",
       " 'Animated cartoon': 94,\n",
       " 'Animation': 2441,\n",
       " 'Anime': 305,\n",
       " 'Anthology': 7,\n",
       " 'Anthropology': 2,\n",
       " 'Anti-war': 32,\n",
       " 'Anti-war film': 31,\n",
       " 'Apocalyptic and post-apocalyptic fiction': 32,\n",
       " 'Archaeology': 10,\n",
       " 'Archives and records': 6,\n",
       " 'Art film': 351,\n",
       " 'Auto racing': 50,\n",
       " 'Avant-garde': 83,\n",
       " 'B-Western': 19,\n",
       " 'B-movie': 386,\n",
       " 'Backstage Musical': 20,\n",
       " 'Baseball': 9,\n",
       " 'Beach Film': 19,\n",
       " 'Beach Party film': 2,\n",
       " 'Bengali Cinema': 10,\n",
       " 'Biker Film': 20,\n",
       " 'Biographical film': 625,\n",
       " 'Biography': 592,\n",
       " 'Biopic [feature]': 365,\n",
       " 'Black comedy': 834,\n",
       " 'Black-and-white': 3731,\n",
       " 'Blaxploitation': 79,\n",
       " 'Bloopers & Candid Camera': 3,\n",
       " 'Bollywood': 1058,\n",
       " 'Boxing': 51,\n",
       " 'Breakdance': 1,\n",
       " 'British Empire Film': 20,\n",
       " 'British New Wave': 13,\n",
       " 'Bruceploitation': 3,\n",
       " 'Buddy Picture': 1,\n",
       " 'Buddy cop': 11,\n",
       " 'Buddy film': 325,\n",
       " 'Business': 4,\n",
       " 'C-Movie': 1,\n",
       " 'Camp': 3,\n",
       " 'Caper story': 80,\n",
       " 'Cavalry Film': 12,\n",
       " 'Chase Movie': 100,\n",
       " 'Chick flick': 1,\n",
       " 'Childhood Drama': 111,\n",
       " \"Children's\": 412,\n",
       " \"Children's Entertainment\": 11,\n",
       " \"Children's Fantasy\": 244,\n",
       " \"Children's Issues\": 1,\n",
       " \"Children's/Family\": 759,\n",
       " 'Chinese Movies': 998,\n",
       " 'Christian film': 116,\n",
       " 'Christmas movie': 80,\n",
       " 'Clay animation': 4,\n",
       " 'Cold War': 10,\n",
       " 'Combat Films': 84,\n",
       " 'Comdedy': 1,\n",
       " 'Comedy': 10467,\n",
       " 'Comedy Thriller': 78,\n",
       " 'Comedy Western': 53,\n",
       " 'Comedy film': 1778,\n",
       " 'Comedy horror': 19,\n",
       " 'Comedy of Errors': 169,\n",
       " 'Comedy of manners': 212,\n",
       " 'Comedy-drama': 1261,\n",
       " 'Coming of age': 741,\n",
       " 'Coming-of-age film': 4,\n",
       " 'Computer Animation': 195,\n",
       " 'Computers': 4,\n",
       " 'Concert film': 11,\n",
       " 'Conspiracy fiction': 2,\n",
       " 'Costume Adventure': 77,\n",
       " 'Costume Horror': 55,\n",
       " 'Costume drama': 367,\n",
       " 'Courtroom Comedy': 6,\n",
       " 'Courtroom Drama': 184,\n",
       " 'Creature Film': 347,\n",
       " 'Crime': 26,\n",
       " 'Crime Comedy': 231,\n",
       " 'Crime Drama': 391,\n",
       " 'Crime Fiction': 4275,\n",
       " 'Crime Thriller': 1682,\n",
       " 'Cult': 680,\n",
       " 'Culture & Society': 204,\n",
       " 'Cyberpunk': 5,\n",
       " 'Czechoslovak New Wave': 7,\n",
       " 'Dance': 69,\n",
       " 'Demonic child': 6,\n",
       " 'Detective': 282,\n",
       " 'Detective fiction': 225,\n",
       " 'Disaster': 238,\n",
       " 'Docudrama': 252,\n",
       " 'Documentary': 1213,\n",
       " 'Dogme 95': 17,\n",
       " 'Domestic Comedy': 172,\n",
       " 'Doomsday film': 112,\n",
       " 'Drama': 19134,\n",
       " 'Dystopia': 84,\n",
       " 'Ealing Comedies': 12,\n",
       " 'Early Black Cinema': 6,\n",
       " 'Education': 3,\n",
       " 'Educational': 16,\n",
       " 'Ensemble Film': 349,\n",
       " 'Environmental Science': 6,\n",
       " 'Epic': 196,\n",
       " 'Epic Western': 17,\n",
       " 'Erotic Drama': 112,\n",
       " 'Erotic thriller': 170,\n",
       " 'Erotica': 235,\n",
       " 'Escape Film': 45,\n",
       " 'Essay Film': 8,\n",
       " 'Existentialism': 34,\n",
       " 'Experimental film': 107,\n",
       " 'Exploitation': 12,\n",
       " 'Expressionism': 2,\n",
       " 'Extreme Sports': 10,\n",
       " 'Fairy tale': 48,\n",
       " 'Family & Personal Relationships': 10,\n",
       " 'Family Drama': 766,\n",
       " 'Family Film': 3219,\n",
       " 'Family-Oriented Adventure': 213,\n",
       " 'Fan film': 18,\n",
       " 'Fantasy': 2012,\n",
       " 'Fantasy Adventure': 190,\n",
       " 'Fantasy Comedy': 196,\n",
       " 'Fantasy Drama': 16,\n",
       " 'Feature film': 8,\n",
       " 'Female buddy film': 4,\n",
       " 'Feminist Film': 76,\n",
       " 'Fictional film': 8,\n",
       " 'Filipino': 10,\n",
       " 'Filipino Movies': 220,\n",
       " 'Film': 19,\n",
       " 'Film & Television History': 11,\n",
       " 'Film \\\\u00e0 clef': 29,\n",
       " 'Film adaptation': 1225,\n",
       " 'Film noir': 524,\n",
       " 'Film-Opera': 3,\n",
       " 'Filmed Play': 3,\n",
       " 'Finance & Investing': 4,\n",
       " 'Foreign legion': 10,\n",
       " 'Future noir': 29,\n",
       " 'Gangster Film': 338,\n",
       " 'Gay': 219,\n",
       " 'Gay Interest': 217,\n",
       " 'Gay Themed': 264,\n",
       " 'Gay pornography': 21,\n",
       " 'Gender Issues': 19,\n",
       " 'Giallo': 25,\n",
       " 'Glamorized Spy Film': 45,\n",
       " 'Goat gland': 4,\n",
       " 'Gothic Film': 62,\n",
       " 'Graphic & Applied Arts': 4,\n",
       " 'Gross out': 58,\n",
       " 'Gross-out film': 58,\n",
       " 'Gulf War': 5,\n",
       " 'Hagiography': 19,\n",
       " 'Hardcore pornography': 7,\n",
       " 'Haunted House Film': 65,\n",
       " 'Health & Fitness': 3,\n",
       " 'Heaven-Can-Wait Fantasies': 21,\n",
       " 'Heavenly Comedy': 27,\n",
       " 'Heist': 145,\n",
       " 'Hip hop movies': 31,\n",
       " 'Historical Documentaries': 2,\n",
       " 'Historical Epic': 63,\n",
       " 'Historical drama': 107,\n",
       " 'Historical fiction': 305,\n",
       " 'History': 358,\n",
       " 'Holiday Film': 94,\n",
       " 'Homoeroticism': 1,\n",
       " 'Horror': 4082,\n",
       " 'Horror Comedy': 206,\n",
       " 'Horse racing': 8,\n",
       " 'Humour': 4,\n",
       " 'Hybrid Western': 29,\n",
       " 'Illnesses & Disabilities': 14,\n",
       " 'Indian Western': 18,\n",
       " 'Indie': 3668,\n",
       " 'Inspirational Drama': 27,\n",
       " 'Instrumental Music': 4,\n",
       " 'Interpersonal Relationships': 21,\n",
       " 'Inventions & Innovations': 4,\n",
       " 'Japanese Movies': 1290,\n",
       " 'Journalism': 2,\n",
       " 'Jukebox musical': 7,\n",
       " 'Jungle Film': 62,\n",
       " 'Juvenile Delinquency Film': 42,\n",
       " 'Kafkaesque': 6,\n",
       " 'Kitchen sink realism': 14,\n",
       " 'LGBT': 825,\n",
       " 'Language & Literature': 8,\n",
       " 'Latino': 3,\n",
       " 'Law & Crime': 21,\n",
       " 'Legal drama': 8,\n",
       " 'Libraries and librarians': 5,\n",
       " 'Linguistics': 1,\n",
       " 'Live action': 2,\n",
       " 'Malayalam Cinema': 12,\n",
       " 'Marriage Drama': 137,\n",
       " 'Martial Arts Film': 706,\n",
       " 'Master Criminal Films': 25,\n",
       " 'Media Satire': 71,\n",
       " 'Media Studies': 7,\n",
       " 'Medical fiction': 56,\n",
       " 'Melodrama': 499,\n",
       " 'Mockumentary': 97,\n",
       " 'Mondo film': 5,\n",
       " 'Monster': 113,\n",
       " 'Monster movie': 168,\n",
       " 'Movie serial': 11,\n",
       " 'Movies About Gladiators': 5,\n",
       " 'Mumblecore': 7,\n",
       " 'Music': 356,\n",
       " 'Musical': 2414,\n",
       " 'Musical Drama': 136,\n",
       " 'Musical comedy': 175,\n",
       " 'Mystery': 2119,\n",
       " 'Mythological Fantasy': 26,\n",
       " 'Natural disaster': 14,\n",
       " 'Natural horror films': 153,\n",
       " 'Nature': 17,\n",
       " 'Neo-noir': 57,\n",
       " 'Neorealism': 1,\n",
       " 'New Hollywood': 86,\n",
       " 'New Queer Cinema': 1,\n",
       " 'News': 7,\n",
       " 'Ninja movie': 1,\n",
       " 'Northern': 7,\n",
       " 'Nuclear warfare': 3,\n",
       " 'Operetta': 4,\n",
       " 'Outlaw': 5,\n",
       " 'Outlaw biker film': 12,\n",
       " 'Parkour in popular culture': 6,\n",
       " 'Parody': 767,\n",
       " 'Patriotic film': 1,\n",
       " 'Period Horror': 2,\n",
       " 'Period piece': 1321,\n",
       " 'Pinku eiga': 24,\n",
       " 'Plague': 4,\n",
       " 'Point of view shot': 3,\n",
       " 'Political Documetary': 1,\n",
       " 'Political cinema': 176,\n",
       " 'Political drama': 531,\n",
       " 'Political satire': 78,\n",
       " 'Political thriller': 195,\n",
       " 'Pornographic movie': 145,\n",
       " 'Pornography': 7,\n",
       " 'Pre-Code': 130,\n",
       " 'Prison': 90,\n",
       " 'Prison escape': 2,\n",
       " 'Prison film': 12,\n",
       " 'Private military company': 2,\n",
       " 'Propaganda film': 77,\n",
       " 'Psycho-biddy': 10,\n",
       " 'Psychological horror': 3,\n",
       " 'Psychological thriller': 1138,\n",
       " 'Punk rock': 23,\n",
       " 'Race movie': 3,\n",
       " 'Reboot': 8,\n",
       " 'Religious Film': 61,\n",
       " 'Remake': 85,\n",
       " 'Revenge': 2,\n",
       " 'Revisionist Fairy Tale': 2,\n",
       " 'Revisionist Western': 60,\n",
       " 'Road movie': 268,\n",
       " 'Road-Horror': 19,\n",
       " 'Roadshow theatrical release': 32,\n",
       " 'Roadshow/Carny': 4,\n",
       " 'Rockumentary': 40,\n",
       " 'Romance Film': 6666,\n",
       " 'Romantic comedy': 2075,\n",
       " 'Romantic drama': 2572,\n",
       " 'Romantic fantasy': 59,\n",
       " 'Romantic thriller': 1,\n",
       " 'Samurai cinema': 27,\n",
       " 'Satire': 532,\n",
       " 'School story': 4,\n",
       " 'Sci Fi Pictures original films': 4,\n",
       " 'Sci-Fi Adventure': 32,\n",
       " 'Sci-Fi Horror': 124,\n",
       " 'Sci-Fi Thriller': 5,\n",
       " 'Science Fiction': 2339,\n",
       " 'Science fiction Western': 5,\n",
       " 'Screwball comedy': 246,\n",
       " 'Sex comedy': 253,\n",
       " 'Sexploitation': 82,\n",
       " 'Short Film': 3192,\n",
       " 'Silent film': 1199,\n",
       " 'Silhouette animation': 1,\n",
       " 'Singing cowboy': 3,\n",
       " 'Slapstick': 518,\n",
       " 'Slasher': 654,\n",
       " 'Slice of life story': 94,\n",
       " 'Social issues': 101,\n",
       " 'Social problem film': 92,\n",
       " 'Softcore Porn': 41,\n",
       " 'Space opera': 5,\n",
       " 'Space western': 12,\n",
       " 'Spaghetti Western': 56,\n",
       " 'Splatter film': 28,\n",
       " 'Sponsored film': 4,\n",
       " 'Sports': 672,\n",
       " 'Spy': 342,\n",
       " 'Stand-up comedy': 12,\n",
       " 'Star vehicle': 2,\n",
       " 'Statutory rape': 1,\n",
       " 'Steampunk': 30,\n",
       " 'Stoner film': 46,\n",
       " 'Stop motion': 134,\n",
       " 'Superhero': 111,\n",
       " 'Superhero movie': 258,\n",
       " 'Supermarionation': 3,\n",
       " 'Supernatural': 571,\n",
       " 'Surrealism': 99,\n",
       " 'Suspense': 651,\n",
       " 'Swashbuckler films': 104,\n",
       " 'Sword and Sandal': 16,\n",
       " 'Sword and sorcery': 39,\n",
       " 'Sword and sorcery films': 37,\n",
       " 'Tamil cinema': 63,\n",
       " 'Teen': 824,\n",
       " 'Television movie': 665,\n",
       " 'The Netherlands in World War II': 2,\n",
       " 'Therimin music': 4,\n",
       " 'Thriller': 6530,\n",
       " 'Time travel': 77,\n",
       " 'Tokusatsu': 2,\n",
       " 'Tollywood': 32,\n",
       " 'Tragedy': 79,\n",
       " 'Tragicomedy': 51,\n",
       " 'Travel': 14,\n",
       " 'Vampire movies': 3,\n",
       " 'War effort': 1,\n",
       " 'War film': 1556,\n",
       " 'Werewolf fiction': 4,\n",
       " 'Western': 1022,\n",
       " 'Whodunit': 43,\n",
       " 'Women in prison films': 13,\n",
       " 'Workplace Comedy': 84,\n",
       " 'World History': 10,\n",
       " 'World cinema': 5153,\n",
       " 'Wuxia': 79,\n",
       " 'Z movie': 2,\n",
       " 'Zombie Film': 234}"
      ]
     },
     "execution_count": 13,
     "metadata": {},
     "output_type": "execute_result"
    }
   ],
   "source": [
    "total"
   ]
  },
  {
   "cell_type": "code",
   "execution_count": 71,
   "metadata": {},
   "outputs": [],
   "source": [
    "def genre_counts(k):\n",
    "    dct = {}\n",
    "    for i in range(len(df)):\n",
    "        label = df['k='+str(k)][i]\n",
    "        genres = df['Genres'][i]\n",
    "        if label not in dct:\n",
    "            dct[label] = genres\n",
    "        elif len(genres)>0:\n",
    "            dct[label] = dct[label]+genres\n",
    "    dct.update((k,dict(Counter(v))) for k,v in dct.items())\n",
    "    return dct"
   ]
  },
  {
   "cell_type": "code",
   "execution_count": 72,
   "metadata": {},
   "outputs": [],
   "source": [
    "gc5 = genre_counts(5)"
   ]
  },
  {
   "cell_type": "code",
   "execution_count": 73,
   "metadata": {
    "scrolled": true
   },
   "outputs": [],
   "source": [
    "def print_percents(dct):\n",
    "    for item in dct.items():\n",
    "        print('label: '+str(item[0]))\n",
    "        percents = []\n",
    "        for genre,cnt in item[1].items():\n",
    "            percents.append(cnt/total[genre])\n",
    "            \n",
    "        _ = plt.hist(percents, bins='auto')\n",
    "        plt.show()\n",
    "        np.histogram(percents)\n",
    "        print('mean %: '+str(np.mean(percents)))\n",
    "        print('min %: '+str(np.min(percents)))\n",
    "        print('max %: '+str(np.max(percents)))\n",
    "        print('')"
   ]
  },
  {
   "cell_type": "code",
   "execution_count": 75,
   "metadata": {},
   "outputs": [
    {
     "name": "stdout",
     "output_type": "stream",
     "text": [
      "label: 4\n"
     ]
    },
    {
     "data": {
      "image/png": "[encoded data removed]",
      "text/plain": [
       "<Figure size 432x288 with 1 Axes>"
      ]
     },
     "metadata": {},
     "output_type": "display_data"
    },
    {
     "name": "stdout",
     "output_type": "stream",
     "text": [
      "mean %: 0.3588047266751316\n",
      "min %: 0.0625\n",
      "max %: 1.0\n",
      "\n",
      "label: 1\n"
     ]
    },
    {
     "data": {
      "image/png": "[encoded data removed]",
      "text/plain": [
       "<Figure size 432x288 with 1 Axes>"
      ]
     },
     "metadata": {},
     "output_type": "display_data"
    },
    {
     "name": "stdout",
     "output_type": "stream",
     "text": [
      "mean %: 0.16182022729831405\n",
      "min %: 0.005714285714285714\n",
      "max %: 1.0\n",
      "\n",
      "label: 0\n"
     ]
    },
    {
     "data": {
      "image/png": "[encoded data removed]",
      "text/plain": [
       "<Figure size 432x288 with 1 Axes>"
      ]
     },
     "metadata": {},
     "output_type": "display_data"
    },
    {
     "name": "stdout",
     "output_type": "stream",
     "text": [
      "mean %: 0.2922194935780629\n",
      "min %: 0.023255813953488372\n",
      "max %: 1.0\n",
      "\n",
      "label: 2\n"
     ]
    },
    {
     "data": {
      "image/png": "[encoded data removed]",
      "text/plain": [
       "<Figure size 432x288 with 1 Axes>"
      ]
     },
     "metadata": {},
     "output_type": "display_data"
    },
    {
     "name": "stdout",
     "output_type": "stream",
     "text": [
      "mean %: 0.2771929069682304\n",
      "min %: 0.04\n",
      "max %: 1.0\n",
      "\n",
      "label: 3\n"
     ]
    },
    {
     "data": {
      "image/png": "[encoded data removed]",
      "text/plain": [
       "<Figure size 432x288 with 1 Axes>"
      ]
     },
     "metadata": {},
     "output_type": "display_data"
    },
    {
     "name": "stdout",
     "output_type": "stream",
     "text": [
      "mean %: 0.10837596622386295\n",
      "min %: 0.008849557522123894\n",
      "max %: 1.0\n",
      "\n"
     ]
    }
   ],
   "source": [
    "print_percents(gc5)"
   ]
  },
  {
   "cell_type": "code",
   "execution_count": 76,
   "metadata": {},
   "outputs": [],
   "source": [
    "gc4 = genre_counts(4)"
   ]
  },
  {
   "cell_type": "code",
   "execution_count": 79,
   "metadata": {},
   "outputs": [
    {
     "name": "stdout",
     "output_type": "stream",
     "text": [
      "label: 1\n"
     ]
    },
    {
     "data": {
      "image/png": "[encoded data removed]",
      "text/plain": [
       "<Figure size 432x288 with 1 Axes>"
      ]
     },
     "metadata": {},
     "output_type": "display_data"
    },
    {
     "name": "stdout",
     "output_type": "stream",
     "text": [
      "mean %: 0.47498382438950665\n",
      "min %: 0.07142857142857142\n",
      "max %: 1.0\n",
      "\n",
      "label: 2\n"
     ]
    },
    {
     "data": {
      "image/png": "[encoded data removed]",
      "text/plain": [
       "<Figure size 432x288 with 1 Axes>"
      ]
     },
     "metadata": {},
     "output_type": "display_data"
    },
    {
     "name": "stdout",
     "output_type": "stream",
     "text": [
      "mean %: 0.16795761264732878\n",
      "min %: 0.005714285714285714\n",
      "max %: 1.0\n",
      "\n",
      "label: 3\n"
     ]
    },
    {
     "data": {
      "image/png": "[encoded data removed]",
      "text/plain": [
       "<Figure size 432x288 with 1 Axes>"
      ]
     },
     "metadata": {},
     "output_type": "display_data"
    },
    {
     "name": "stdout",
     "output_type": "stream",
     "text": [
      "mean %: 0.3266828244046966\n",
      "min %: 0.03125\n",
      "max %: 1.0\n",
      "\n",
      "label: 0\n"
     ]
    },
    {
     "data": {
      "image/png": "[encoded data removed]",
      "text/plain": [
       "<Figure size 432x288 with 1 Axes>"
      ]
     },
     "metadata": {},
     "output_type": "display_data"
    },
    {
     "name": "stdout",
     "output_type": "stream",
     "text": [
      "mean %: 0.19023109176027303\n",
      "min %: 0.008928571428571428\n",
      "max %: 1.0\n",
      "\n"
     ]
    }
   ],
   "source": [
    "print_percents(gc4)"
   ]
  },
  {
   "cell_type": "code",
   "execution_count": 78,
   "metadata": {},
   "outputs": [],
   "source": [
    "gc3 = genre_counts(3)"
   ]
  },
  {
   "cell_type": "code",
   "execution_count": 80,
   "metadata": {},
   "outputs": [
    {
     "name": "stdout",
     "output_type": "stream",
     "text": [
      "label: 0\n"
     ]
    },
    {
     "data": {
      "image/png": "[encoded data removed]",
      "text/plain": [
       "<Figure size 432x288 with 1 Axes>"
      ]
     },
     "metadata": {},
     "output_type": "display_data"
    },
    {
     "name": "stdout",
     "output_type": "stream",
     "text": [
      "mean %: 0.3799892473995057\n",
      "min %: 0.05263157894736842\n",
      "max %: 1.0\n",
      "\n",
      "label: 2\n"
     ]
    },
    {
     "data": {
      "image/png": "[encoded data removed]",
      "text/plain": [
       "<Figure size 432x288 with 1 Axes>"
      ]
     },
     "metadata": {},
     "output_type": "display_data"
    },
    {
     "name": "stdout",
     "output_type": "stream",
     "text": [
      "mean %: 0.5071342071164522\n",
      "min %: 0.08\n",
      "max %: 1.0\n",
      "\n",
      "label: 1\n"
     ]
    },
    {
     "data": {
      "image/png": "[encoded data removed]",
      "text/plain": [
       "<Figure size 432x288 with 1 Axes>"
      ]
     },
     "metadata": {},
     "output_type": "display_data"
    },
    {
     "name": "stdout",
     "output_type": "stream",
     "text": [
      "mean %: 0.22823894858379193\n",
      "min %: 0.017857142857142856\n",
      "max %: 1.0\n",
      "\n"
     ]
    }
   ],
   "source": [
    "print_percents(gc3)"
   ]
  },
  {
   "cell_type": "code",
   "execution_count": null,
   "metadata": {},
   "outputs": [],
   "source": []
  }
 ],
 "metadata": {
  "kernelspec": {
   "display_name": "env",
   "language": "python",
   "name": "env"
  },
  "language_info": {
   "codemirror_mode": {
    "name": "ipython",
    "version": 3
   },
   "file_extension": ".py",
   "mimetype": "text/x-python",
   "name": "python",
   "nbconvert_exporter": "python",
   "pygments_lexer": "ipython3",
   "version": "3.7.6"
  }
 },
 "nbformat": 4,
 "nbformat_minor": 2
}
