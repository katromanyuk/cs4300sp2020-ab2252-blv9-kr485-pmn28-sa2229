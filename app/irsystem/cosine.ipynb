{
 "cells": [
  {
   "cell_type": "code",
   "execution_count": 1,
   "metadata": {},
   "outputs": [],
   "source": [
    "import numpy as np\n",
    "import pandas as pd\n",
    "import csv\n",
    "from sklearn.feature_extraction.text import TfidfVectorizer\n",
    "from sklearn.metrics.pairwise import cosine_similarity"
   ]
  },
  {
   "cell_type": "code",
   "execution_count": 2,
   "metadata": {},
   "outputs": [],
   "source": [
    "merged = pd.read_csv('merged_data.csv', index_col = 'Title')\n",
    "def get_summary(movie):\n",
    "    info = merged.loc[movie] \n",
    "    summary = info['Summary']\n",
    "    return summary"
   ]
  },
  {
   "cell_type": "code",
   "execution_count": 3,
   "metadata": {},
   "outputs": [],
   "source": [
    "list_movies = []\n",
    "with open('models/imdb250.csv') as imdb250:\n",
    "    top250 = csv.reader(imdb250)\n",
    "    for movie_info in top250:\n",
    "        list_movies.append(movie_info)\n",
    "list_movies = list_movies[1:]\n",
    "movie250 = {}\n",
    "for movie in list_movies:\n",
    "#     print(movie)\n",
    "    title = movie[1]\n",
    "#     if title == 'The Godfather: Part II':\n",
    "#         title = 'The Godfather Part II'\n",
    "#     if title == 'Star Wars: Episode V - The Empire Strikes Back':\n",
    "#         title = 'Star Wars Episode V: The Empire Strikes Back'\n",
    "#     if title == 'Star Wars: Episode IV - A New Hope':\n",
    "#         title = 'Star Wars Episode IV: A New Hope'\n",
    "#     if title == 'Se7en':\n",
    "#         title = 'Seven'\n",
    "#     if title == 'LÃ©on: The Professional':\n",
    "#         title = 'Léon: The Professional'\n",
    "    genre = movie[6]\n",
    "    rating = movie[16]\n",
    "#     summary = get_summary(title)\n",
    "    movie250[title] = {}\n",
    "    (movie250[title])['Genre'] = genre\n",
    "    (movie250[title])['Rating'] = rating\n",
    "#     (movie250[title])['Summary'] = summary\n",
    "    \n",
    "def movie_top250(movie):\n",
    "    if(movie250.get(movie) == None):\n",
    "        return \"Sorry, this movie is not in the top 250!\"\n",
    "    else:\n",
    "        return movie"
   ]
  },
  {
   "cell_type": "code",
   "execution_count": 4,
   "metadata": {},
   "outputs": [],
   "source": [
    " def get_sim(mov1, mov2):\n",
    "#  need to fix so that the cosine similarity is calculated between the user input movie and the top250\n",
    "    vectorizer = TfidfVectorizer()\n",
    "    sum1 = get_summary(mov1)\n",
    "    sum2 = get_summary(mov2)\n",
    "    doc = [sum1, sum2]\n",
    "    tfidf = vectorizer.fit_transform(doc)\n",
    "    return cosine_similarity(tfidf)[0][1]"
   ]
  },
  {
   "cell_type": "code",
   "execution_count": 5,
   "metadata": {},
   "outputs": [
    {
     "data": {
      "text/plain": [
       "0.4805725814816514"
      ]
     },
     "execution_count": 5,
     "metadata": {},
     "output_type": "execute_result"
    }
   ],
   "source": [
    "get_sim('Ghosts of Mars', 'White Of The Eye')"
   ]
  },
  {
   "cell_type": "code",
   "execution_count": null,
   "metadata": {},
   "outputs": [],
   "source": []
  }
 ],
 "metadata": {
  "kernelspec": {
   "display_name": "Python 3",
   "language": "python",
   "name": "python3"
  },
  "language_info": {
   "codemirror_mode": {
    "name": "ipython",
    "version": 3
   },
   "file_extension": ".py",
   "mimetype": "text/x-python",
   "name": "python",
   "nbconvert_exporter": "python",
   "pygments_lexer": "ipython3",
   "version": "3.7.6"
  }
 },
 "nbformat": 4,
 "nbformat_minor": 2
}
