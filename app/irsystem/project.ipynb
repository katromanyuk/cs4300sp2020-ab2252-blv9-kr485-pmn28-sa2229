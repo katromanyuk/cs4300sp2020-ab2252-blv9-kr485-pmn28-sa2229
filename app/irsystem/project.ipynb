{
 "cells": [
  {
   "cell_type": "code",
   "execution_count": 1,
   "metadata": {},
   "outputs": [],
   "source": [
    "import re\n",
    "import string\n",
    "import numpy as np\n",
    "import pandas as pd\n",
    "import lyricsgenius\n",
    "from nltk.corpus import stopwords\n",
    "from nltk.tokenize import word_tokenize\n",
    "from vaderSentiment.vaderSentiment import SentimentIntensityAnalyzer"
   ]
  },
  {
   "cell_type": "code",
   "execution_count": 2,
   "metadata": {},
   "outputs": [],
   "source": [
    "TOKEN = 'sD0C3epnJdfOQQK4eIC45dHl-Qv7DipToGpuj1n4WeuG5_LDP1HKn31w5Cn1lOux'\n",
    "genius = lyricsgenius.Genius(TOKEN)\n",
    "genius.verbose = False\n",
    "genius.remove_section_headers = True"
   ]
  },
  {
   "cell_type": "code",
   "execution_count": 3,
   "metadata": {},
   "outputs": [],
   "source": [
    "#artist = genius.search_artist(\"Arctic Monkeys\")\n",
    "#song = genius.search_song(\"Don't Sit Down\", artist.name)"
   ]
  },
  {
   "cell_type": "code",
   "execution_count": 4,
   "metadata": {},
   "outputs": [
    {
     "name": "stdout",
     "output_type": "stream",
     "text": [
      "Break a mirror, roll the dice\n",
      "Run with scissors through a chip-pan firefight\n",
      "Go into business with a grizzly bear\n",
      "But just don't sit down 'cause I've moved your chair\n",
      "\n",
      "Find a well-known hard man and start a fight\n",
      "Wear your shell suit on bonfire night\n",
      "Fill in a circular hole with a peg that's square\n",
      "But just don't sit down 'cause I've moved your chair\n",
      "\n",
      "Oooh, yeah, yeah, yeah\n",
      "Oooh, yeah, yeah, yeah\n",
      "\n",
      "Bite the lightning and tell me how it tastes\n",
      "Kung fu fighting on your roller skates\n",
      "Do the Macarena in the devil's lair\n",
      "But just don't sit down 'cause I've moved your chair\n",
      "\n",
      "Oooh, yeah, yeah, yeah\n",
      "Oooh, yeah, yeah, yeah\n",
      "Oooh, yeah, yeah, yeah\n",
      "Oooh, yeah, yeah, yeah\n"
     ]
    }
   ],
   "source": [
    "song = genius.search_song('Moved Your Chair', 'Arctic Monkeys')\n",
    "print(song.lyrics)"
   ]
  },
  {
   "cell_type": "code",
   "execution_count": 5,
   "metadata": {},
   "outputs": [
    {
     "name": "stdout",
     "output_type": "stream",
     "text": [
      "Lately, I've been, I've been thinking\n",
      "I want you to be happier, I want you to be happier\n",
      "\n",
      "When the morning comes\n",
      "When we see what we've become\n",
      "In the cold light of day, we're a flame in the wind\n",
      "Not the fire that we've begun\n",
      "Every argument, every word we can't take back\n",
      "'Cause with all that has happened\n",
      "I think that we both know the way that this story ends\n",
      "\n",
      "Then only for a minute\n",
      "I want to change my mind\n",
      "'Cause this just don't feel right to me\n",
      "I wanna raise your spirits\n",
      "I want to see you smile but\n",
      "Know that means I'll have to leave\n",
      "\n",
      "Know that means I'll have to leave\n",
      "Lately, I've been, I've been thinking\n",
      "I want you to be happier, I want you to be happier\n",
      "\n",
      "When the evening falls\n",
      "And I'm left there with my thoughts\n",
      "And the image of you being with someone else\n",
      "Well, it's eating me up inside\n",
      "But we ran our course, we pretended we're okay\n",
      "Now if we jump together, at least we can swim\n",
      "Far away from the wreck we made\n",
      "\n",
      "Then only for a minute\n",
      "I want to change my mind\n",
      "'Cause this just don't feel right to me\n",
      "I wanna raise your spirits\n",
      "I want to see you smile but\n",
      "Know that means I'll have to leave\n",
      "\n",
      "Know that means I'll have to leave\n",
      "Lately, I've been, I've been thinking\n",
      "I want you to be happier, I want you to be happier\n",
      "\n",
      "So I'll go, I'll go\n",
      "I will go, go, go\n",
      "So I'll go, I'll go\n",
      "I will go, go, go\n",
      "\n",
      "Lately, I've been, I've been thinking\n",
      "I want you to be happier, I want you to be happier\n",
      "Even though I might not like this\n",
      "I think that you'll be happier, I want you to be happier\n",
      "\n",
      "Then only for a minute (Only for a minute)\n",
      "I want to change my mind\n",
      "'Cause this just don't feel right to me (Right to me)\n",
      "I wanna raise your spirits (Wanna raise your spirits)\n",
      "I want to see you smile but\n",
      "Know that means I'll have to leave\n",
      "\n",
      "Know that means I'll have to leave\n",
      "Lately, I've been, I've been thinking\n",
      "I want you to be happier, I want you to be happier\n",
      "\n",
      "So I'll go, I'll go\n",
      "I will go, go, go\n"
     ]
    }
   ],
   "source": [
    "song = genius.search_song('happier', 'bastille')\n",
    "print(song.lyrics)"
   ]
  },
  {
   "cell_type": "code",
   "execution_count": 6,
   "metadata": {},
   "outputs": [
    {
     "name": "stdout",
     "output_type": "stream",
     "text": [
      "lately thinking want happier want happier morning comes see become cold light day flame wind fire begun every argument every word take back cause happened think know way story ends minute want change mind cause feel right wan na raise spirits want see smile know means leave know means leave lately thinking want happier want happier evening falls left thoughts image someone else well eating inside ran course pretended okay jump together least swim far away wreck made minute want change mind cause feel right wan na raise spirits want see smile know means leave know means leave lately thinking want happier want happier go go go go go go go go go go lately thinking want happier want happier even though might like think happier want happier minute minute want change mind cause feel right right wan na raise spirits wan na raise spirits want see smile know means leave know means leave lately thinking want happier want happier go go go go go\n"
     ]
    }
   ],
   "source": [
    "stop_words = set(stopwords.words('english'))\n",
    "lyrics = song.lyrics.lower()\n",
    "lyrics = re.sub(r'\\d+', '', lyrics)\n",
    "lyrics = re.sub(r'-|\\'', ' ', lyrics)\n",
    "lyrics = ''.join(x for x in lyrics if x not in string.punctuation)\n",
    "tokens = word_tokenize(lyrics)\n",
    "processed_lyrics = ' '.join(i for i in tokens if not i in stop_words)\n",
    "print(processed_lyrics)"
   ]
  },
  {
   "cell_type": "code",
   "execution_count": 7,
   "metadata": {},
   "outputs": [
    {
     "name": "stdout",
     "output_type": "stream",
     "text": [
      "{'neg': 0.07, 'neu': 0.568, 'pos': 0.361, 'compound': 0.9942}\n"
     ]
    }
   ],
   "source": [
    "analyzer = SentimentIntensityAnalyzer()\n",
    "sentiment = analyzer.polarity_scores(processed_lyrics)\n",
    "print(sentiment)"
   ]
  },
  {
   "cell_type": "code",
   "execution_count": null,
   "metadata": {},
   "outputs": [],
   "source": []
  },
  {
   "cell_type": "code",
   "execution_count": null,
   "metadata": {},
   "outputs": [],
   "source": []
  },
  {
   "cell_type": "code",
   "execution_count": 8,
   "metadata": {},
   "outputs": [],
   "source": [
    "data = pd.read_csv('imdb250.csv')"
   ]
  },
  {
   "cell_type": "code",
   "execution_count": 9,
   "metadata": {},
   "outputs": [],
   "source": [
    "data = data[['Title','Genre','Plot']]"
   ]
  },
  {
   "cell_type": "code",
   "execution_count": 10,
   "metadata": {},
   "outputs": [
    {
     "data": {
      "text/html": [
       "<div>\n",
       "<style scoped>\n",
       "    .dataframe tbody tr th:only-of-type {\n",
       "        vertical-align: middle;\n",
       "    }\n",
       "\n",
       "    .dataframe tbody tr th {\n",
       "        vertical-align: top;\n",
       "    }\n",
       "\n",
       "    .dataframe thead th {\n",
       "        text-align: right;\n",
       "    }\n",
       "</style>\n",
       "<table border=\"1\" class=\"dataframe\">\n",
       "  <thead>\n",
       "    <tr style=\"text-align: right;\">\n",
       "      <th></th>\n",
       "      <th>Title</th>\n",
       "      <th>Genre</th>\n",
       "      <th>Plot</th>\n",
       "    </tr>\n",
       "  </thead>\n",
       "  <tbody>\n",
       "    <tr>\n",
       "      <th>0</th>\n",
       "      <td>The Shawshank Redemption</td>\n",
       "      <td>Crime, Drama</td>\n",
       "      <td>Two imprisoned men bond over a number of years...</td>\n",
       "    </tr>\n",
       "    <tr>\n",
       "      <th>1</th>\n",
       "      <td>The Godfather</td>\n",
       "      <td>Crime, Drama</td>\n",
       "      <td>The aging patriarch of an organized crime dyna...</td>\n",
       "    </tr>\n",
       "    <tr>\n",
       "      <th>2</th>\n",
       "      <td>The Godfather: Part II</td>\n",
       "      <td>Crime, Drama</td>\n",
       "      <td>The early life and career of Vito Corleone in ...</td>\n",
       "    </tr>\n",
       "    <tr>\n",
       "      <th>3</th>\n",
       "      <td>The Dark Knight</td>\n",
       "      <td>Action, Crime, Drama</td>\n",
       "      <td>When the menace known as the Joker emerges fro...</td>\n",
       "    </tr>\n",
       "    <tr>\n",
       "      <th>4</th>\n",
       "      <td>12 Angry Men</td>\n",
       "      <td>Crime, Drama</td>\n",
       "      <td>A jury holdout attempts to prevent a miscarria...</td>\n",
       "    </tr>\n",
       "    <tr>\n",
       "      <th>...</th>\n",
       "      <td>...</td>\n",
       "      <td>...</td>\n",
       "      <td>...</td>\n",
       "    </tr>\n",
       "    <tr>\n",
       "      <th>245</th>\n",
       "      <td>The Lost Weekend</td>\n",
       "      <td>Drama, Film-Noir</td>\n",
       "      <td>The desperate life of a chronic alcoholic is f...</td>\n",
       "    </tr>\n",
       "    <tr>\n",
       "      <th>246</th>\n",
       "      <td>Short Term 12</td>\n",
       "      <td>Drama</td>\n",
       "      <td>A 20-something supervising staff member of a r...</td>\n",
       "    </tr>\n",
       "    <tr>\n",
       "      <th>247</th>\n",
       "      <td>His Girl Friday</td>\n",
       "      <td>Comedy, Drama, Romance</td>\n",
       "      <td>A newspaper editor uses every trick in the boo...</td>\n",
       "    </tr>\n",
       "    <tr>\n",
       "      <th>248</th>\n",
       "      <td>The Straight Story</td>\n",
       "      <td>Biography, Drama</td>\n",
       "      <td>An old man makes a long journey by lawn-mover ...</td>\n",
       "    </tr>\n",
       "    <tr>\n",
       "      <th>249</th>\n",
       "      <td>Slumdog Millionaire</td>\n",
       "      <td>Drama</td>\n",
       "      <td>A Mumbai teen reflects on his upbringing in th...</td>\n",
       "    </tr>\n",
       "  </tbody>\n",
       "</table>\n",
       "<p>250 rows × 3 columns</p>\n",
       "</div>"
      ],
      "text/plain": [
       "                        Title                   Genre  \\\n",
       "0    The Shawshank Redemption            Crime, Drama   \n",
       "1               The Godfather            Crime, Drama   \n",
       "2      The Godfather: Part II            Crime, Drama   \n",
       "3             The Dark Knight    Action, Crime, Drama   \n",
       "4                12 Angry Men            Crime, Drama   \n",
       "..                        ...                     ...   \n",
       "245          The Lost Weekend        Drama, Film-Noir   \n",
       "246             Short Term 12                   Drama   \n",
       "247           His Girl Friday  Comedy, Drama, Romance   \n",
       "248        The Straight Story        Biography, Drama   \n",
       "249       Slumdog Millionaire                   Drama   \n",
       "\n",
       "                                                  Plot  \n",
       "0    Two imprisoned men bond over a number of years...  \n",
       "1    The aging patriarch of an organized crime dyna...  \n",
       "2    The early life and career of Vito Corleone in ...  \n",
       "3    When the menace known as the Joker emerges fro...  \n",
       "4    A jury holdout attempts to prevent a miscarria...  \n",
       "..                                                 ...  \n",
       "245  The desperate life of a chronic alcoholic is f...  \n",
       "246  A 20-something supervising staff member of a r...  \n",
       "247  A newspaper editor uses every trick in the boo...  \n",
       "248  An old man makes a long journey by lawn-mover ...  \n",
       "249  A Mumbai teen reflects on his upbringing in th...  \n",
       "\n",
       "[250 rows x 3 columns]"
      ]
     },
     "execution_count": 10,
     "metadata": {},
     "output_type": "execute_result"
    }
   ],
   "source": [
    "data"
   ]
  },
  {
   "cell_type": "code",
   "execution_count": 11,
   "metadata": {},
   "outputs": [
    {
     "name": "stdout",
     "output_type": "stream",
     "text": [
      "{'Crime': 56, 'Drama': 169, 'Action': 37, 'Biography': 26, 'History': 15, 'Adventure': 59, 'Fantasy': 21, 'Comedy': 47, 'Romance': 24, 'Sci-Fi': 25, 'Mystery': 26, 'Family': 11, 'Thriller': 39, 'War': 15, 'Horror': 6, 'Music': 6, 'Animation': 16, 'Film-Noir': 14, 'Western': 7, 'Musical': 2, 'Sport': 5}\n"
     ]
    }
   ],
   "source": [
    "genres = {}\n",
    "for s in data['Genre']:\n",
    "    s = s.replace(',','')\n",
    "    for g in s.split():\n",
    "        if g in genres:\n",
    "            genres[g] = genres[g] + 1\n",
    "        else:\n",
    "            genres[g] = 1\n",
    "print(genres)"
   ]
  },
  {
   "cell_type": "code",
   "execution_count": 12,
   "metadata": {},
   "outputs": [
    {
     "name": "stdout",
     "output_type": "stream",
     "text": [
      "Crime : 56\n",
      "Drama : 169\n",
      "Action : 37\n",
      "Biography : 26\n",
      "History : 15\n",
      "Adventure : 59\n",
      "Fantasy : 21\n",
      "Comedy : 47\n",
      "Romance : 24\n",
      "Sci-Fi : 25\n",
      "Mystery : 26\n",
      "Family : 11\n",
      "Thriller : 39\n",
      "War : 15\n",
      "Horror : 6\n",
      "Music : 6\n",
      "Animation : 16\n",
      "Film-Noir : 14\n",
      "Western : 7\n",
      "Musical : 2\n",
      "Sport : 5\n"
     ]
    }
   ],
   "source": [
    "for k,v in genres.items():\n",
    "    print(k+' : '+str(v))"
   ]
  },
  {
   "cell_type": "code",
   "execution_count": null,
   "metadata": {},
   "outputs": [],
   "source": []
  }
 ],
 "metadata": {
  "kernelspec": {
   "display_name": "env",
   "language": "python",
   "name": "env"
  },
  "language_info": {
   "codemirror_mode": {
    "name": "ipython",
    "version": 3
   },
   "file_extension": ".py",
   "mimetype": "text/x-python",
   "name": "python",
   "nbconvert_exporter": "python",
   "pygments_lexer": "ipython3",
   "version": "3.7.6"
  }
 },
 "nbformat": 4,
 "nbformat_minor": 2
}
